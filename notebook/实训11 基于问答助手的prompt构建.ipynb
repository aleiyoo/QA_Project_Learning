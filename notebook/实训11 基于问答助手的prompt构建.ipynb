{
 "cells": [
  {
   "cell_type": "markdown",
   "id": "396ba1cc-0da8-4848-b75d-66a83a10ad45",
   "metadata": {},
   "source": [
    "## 1、加载向量数据库"
   ]
  },
  {
   "cell_type": "code",
   "execution_count": 1,
   "id": "84dbe672-eca7-4d88-8d5b-3e4885e6c1a9",
   "metadata": {},
   "outputs": [],
   "source": [
    "from langchain.vectorstores import Chroma\n",
    "from langchain_community.embeddings import QianfanEmbeddingsEndpoint # 调用 百度文心一言 的 Embeddings 模型\n",
    "from dotenv import load_dotenv, find_dotenv\n",
    "import os\n",
    "\n",
    "#import panel as pn # GUI\n",
    "# pn.extension()\n"
   ]
  },
  {
   "cell_type": "code",
   "execution_count": 3,
   "id": "aaf2096b-5962-4b6d-8cc8-5ca6de79ca85",
   "metadata": {},
   "outputs": [],
   "source": [
    "# _ = load_dotenv(find_dotenv()) # read local .env file\n",
    "_ = load_dotenv('../QA_Project/.env')\n",
    "\n",
    "# 获取环境变量 \n",
    "wenxin_api_key = os.environ[\"wenxin_api_key\"]\n",
    "wenxin_secret_key = os.environ[\"wenxin_secret_key\"]\n"
   ]
  },
  {
   "cell_type": "code",
   "execution_count": 6,
   "id": "5a1b34a9-bcf5-4bf8-8b94-d8687f99cb39",
   "metadata": {},
   "outputs": [],
   "source": [
    "# 定义 Embeddings\n",
    "qianfan_embedding = QianfanEmbeddingsEndpoint(qianfan_ak=wenxin_api_key,\n",
    "                                  qianfan_sk=wenxin_secret_key) \n",
    "\n",
    "# 向量数据库持久化路径\n",
    "persist_directory = '../QA_Project/data_base/vector_db/chroma'\n",
    "\n",
    "# 加载数据库\n",
    "vectordb = Chroma(\n",
    "    persist_directory=persist_directory,  # 允许我们将persist_directory目录保存到磁盘上\n",
    "    embedding_function=qianfan_embedding\n",
    ")\n"
   ]
  },
  {
   "cell_type": "code",
   "execution_count": 7,
   "id": "17a27036-acf0-4fe7-be59-14c3530f0d9f",
   "metadata": {},
   "outputs": [
    {
     "name": "stdout",
     "output_type": "stream",
     "text": [
      "向量库中存储的数量：2196\n"
     ]
    }
   ],
   "source": [
    "print(f\"向量库中存储的数量：{vectordb._collection.count()}\")"
   ]
  },
  {
   "cell_type": "code",
   "execution_count": 8,
   "id": "1da38992-9478-43da-9c00-a33c5224678f",
   "metadata": {},
   "outputs": [
    {
     "name": "stderr",
     "output_type": "stream",
     "text": [
      "[INFO] [03-07 15:42:42] openapi_requestor.py:316 [t:140020646860608]: requesting llm api endpoint: /embeddings/embedding-v1\n",
      "[INFO] [03-07 15:42:42] oauth.py:207 [t:140020646860608]: trying to refresh access_token for ak `NSwW3Z***`\n",
      "[INFO] [03-07 15:42:43] oauth.py:220 [t:140020646860608]: sucessfully refresh access_token\n"
     ]
    },
    {
     "name": "stdout",
     "output_type": "stream",
     "text": [
      "检索到的内容数：3\n"
     ]
    }
   ],
   "source": [
    "question = \"什么是强化学习\"\n",
    "docs = vectordb.similarity_search(question,k=3)\n",
    "print(f\"检索到的内容数：{len(docs)}\")"
   ]
  },
  {
   "cell_type": "code",
   "execution_count": 9,
   "id": "0cdf603c-0824-4e29-8610-970c27dd3386",
   "metadata": {},
   "outputs": [
    {
     "name": "stdout",
     "output_type": "stream",
     "text": [
      "检索到的第0个内容: \n",
      " 为什么要学习强化学习\n",
      "\n",
      "我们先聊聊一下\n",
      "\n",
      "强化学习的基本概念\n",
      "\n",
      "强化学习用来学习\n",
      "\n",
      "如果做出一系列好的决策\n",
      "\n",
      "而人工智能的基本挑战是\n",
      "\n",
      "学习在不确定的情况下\n",
      "\n",
      "做出好的决策\n",
      "\n",
      "这边我指个例子\n",
      "\n",
      "比如你想让一个小孩学会走路\n",
      "\n",
      "他就需要通过不断尝试来发现\n",
      "\n",
      "怎么走比较好\n",
      "\n",
      "怎么走最快\n",
      "\n",
      "强化学习的交互过程\n",
      "\n",
      "可以通过这张图来表示\n",
      "\n",
      "强化学习由智能体和环境两部分组成\n",
      "\n",
      "在强化学习过程中\n",
      "\n",
      "智能体与环境一\n",
      "--------------\n",
      "检索到的第1个内容: \n",
      " 强化学习的交互过程\n",
      "\n",
      "可以通过这张图来表示\n",
      "\n",
      "强化学习由智能体和环境两部分组成\n",
      "\n",
      "在强化学习过程中\n",
      "\n",
      "智能体与环境一直在交互\n",
      "\n",
      "智能体在环境中\n",
      "\n",
      "或者某个状态后\n",
      "\n",
      "它会利用各个状态输出一个动作\n",
      "\n",
      "这个动作也被称为决策\n",
      "\n",
      "然而这个动作会被在环境中执行\n",
      "\n",
      "环境会根据智能体采取的动作\n",
      "\n",
      "来输出下一个状态\n",
      "\n",
      "以及当前这个动作的结果\n",
      "\n",
      "这个动作带来的奖励\n",
      "\n",
      "整体它的目的呢\n",
      "\n",
      "就是尽可能的多的\n",
      "\n",
      "尽可能多的在\n",
      "--------------\n",
      "检索到的第2个内容: \n",
      " 杨玉云目前就留于清华大学\n",
      "\n",
      "他的营业方向为施工数据挖掘\n",
      "\n",
      "智能创开系统以及深度学习\n",
      "\n",
      "张继目前就留于北京大学\n",
      "\n",
      "他的营业方向为强化学习记忆人\n",
      "\n",
      "接下来开始真实的分享\n",
      "\n",
      "本次分享分为三部分\n",
      "\n",
      "第一部分为什么要学习强化学习\n",
      "\n",
      "第二部分\n",
      "\n",
      "为什么让本书来学\n",
      "\n",
      "第三部分\n",
      "\n",
      "这本书怎么学最高效\n",
      "\n",
      "首先讲一下\n",
      "\n",
      "为什么要学习强化学习\n",
      "\n",
      "我们先聊聊一下\n",
      "\n",
      "强化学习的基本概念\n",
      "\n",
      "强化学习用来学习\n",
      "\n",
      "如果做出一系列\n",
      "--------------\n"
     ]
    }
   ],
   "source": [
    "for i, doc in enumerate(docs):\n",
    "    print(f\"检索到的第{i}个内容: \\n {doc.page_content[:200]}\", end=\"\\n--------------\\n\")"
   ]
  },
  {
   "cell_type": "markdown",
   "id": "b0761b8a-d110-43a3-b950-1b50e9026ebb",
   "metadata": {},
   "source": [
    "## 2、创建一个LLM"
   ]
  },
  {
   "cell_type": "code",
   "execution_count": 11,
   "id": "aab9bfb3-6116-4898-9ca0-3e013d857cdf",
   "metadata": {},
   "outputs": [
    {
     "name": "stderr",
     "output_type": "stream",
     "text": [
      "[INFO] [03-07 16:41:29] openapi_requestor.py:316 [t:140020646860608]: requesting llm api endpoint: /chat/completions_pro\n"
     ]
    },
    {
     "data": {
      "text/plain": [
       "'你好！有什么我可以帮助你的吗？请随时告诉我，我会尽力提供帮助。'"
      ]
     },
     "execution_count": 11,
     "metadata": {},
     "output_type": "execute_result"
    }
   ],
   "source": [
    "from langchain_community.chat_models.baidu_qianfan_endpoint import QianfanChatEndpoint\n",
    "\n",
    "llm = QianfanChatEndpoint(\n",
    "    qianfan_ak=wenxin_api_key,\n",
    "    qianfan_sk=wenxin_secret_key,model='ERNIE-Bot-4'\n",
    ")\n",
    "\n",
    "llm.predict(\"你好\")\n"
   ]
  },
  {
   "cell_type": "markdown",
   "id": "723f212b-ceb8-4891-a7b9-93fe7d1fdc2a",
   "metadata": {},
   "source": [
    "## 3、构建prompt"
   ]
  },
  {
   "cell_type": "code",
   "execution_count": 12,
   "id": "a093ca54-80a2-42b0-b52f-0e8641d445ca",
   "metadata": {},
   "outputs": [],
   "source": [
    "from langchain.prompts import PromptTemplate\n",
    "\n",
    "# template = \"\"\"基于以下已知信息，简洁和专业的来回答用户的问题。\n",
    "#             如果无法从中得到答案，请说 \"根据已知信息无法回答该问题\" 或 \"没有提供足够的相关信息\"，不允许在答案中添加编造成分。\n",
    "#             答案请使用中文。\n",
    "#             总是在回答的最后说“谢谢你的提问！”。\n",
    "# 已知信息：{context}\n",
    "# 问题: {question}\"\"\"\n",
    "template = \"\"\"使用以下上下文来回答最后的问题。如果你不知道答案，就说你不知道，不要试图编造答\n",
    "案。最多使用三句话。尽量使答案简明扼要。总是在回答的最后说“谢谢你的提问！”。\n",
    "{context}\n",
    "问题: {question}\n",
    "有用的回答:\"\"\"\n",
    "\n",
    "QA_CHAIN_PROMPT = PromptTemplate(input_variables=[\"context\",\"question\"],\n",
    "                                 template=template)\n",
    "\n",
    "# 运行 chain\n"
   ]
  },
  {
   "cell_type": "code",
   "execution_count": 13,
   "id": "3d2ac5a3-dd6f-4aa4-a188-e9a446226cee",
   "metadata": {},
   "outputs": [],
   "source": [
    "from langchain.chains import RetrievalQA\n",
    "\n",
    "qa_chain = RetrievalQA.from_chain_type(llm,\n",
    "                                       retriever=vectordb.as_retriever(),\n",
    "                                       return_source_documents=True,\n",
    "                                       chain_type_kwargs={\"prompt\":QA_CHAIN_PROMPT})\n"
   ]
  },
  {
   "cell_type": "markdown",
   "id": "661bd0a2-06d3-4cc2-b212-6f9a2fdcece1",
   "metadata": {},
   "source": [
    "## 4、prompt测试"
   ]
  },
  {
   "cell_type": "code",
   "execution_count": 14,
   "id": "307042df-9501-413c-a508-a0058c03b9b0",
   "metadata": {},
   "outputs": [],
   "source": [
    "question_1 = \"什么是南瓜书？\"\n",
    "question_2 = \"王阳明是谁？\""
   ]
  },
  {
   "cell_type": "code",
   "execution_count": 15,
   "id": "ad66de84-5dbf-491d-9458-7ae028166cc5",
   "metadata": {},
   "outputs": [
    {
     "name": "stderr",
     "output_type": "stream",
     "text": [
      "/root/miniconda3/envs/aleienv/lib/python3.10/site-packages/langchain_core/_api/deprecation.py:117: LangChainDeprecationWarning: The function `__call__` was deprecated in LangChain 0.1.0 and will be removed in 0.2.0. Use invoke instead.\n",
      "  warn_deprecated(\n",
      "[INFO] [03-07 16:44:25] openapi_requestor.py:316 [t:140020646860608]: requesting llm api endpoint: /embeddings/embedding-v1\n",
      "[INFO] [03-07 16:44:26] openapi_requestor.py:316 [t:140020646860608]: requesting llm api endpoint: /chat/completions_pro\n"
     ]
    },
    {
     "name": "stdout",
     "output_type": "stream",
     "text": [
      "大模型+知识库后回答 question_1 的结果：\n",
      "南瓜书是一本以西瓜书的内容为前置知识进行表述的辅导书，旨在帮助读者更深入地理解机器学习领域的公式和理论。该书适用于遇到自己推导不出来或者看不懂的公式时查阅，是机器学习学习者的重要参考书籍。谢谢你的提问！\n"
     ]
    }
   ],
   "source": [
    "result = qa_chain({\"query\": question_1})\n",
    "print(\"大模型+知识库后回答 question_1 的结果：\")\n",
    "print(result[\"result\"])\n"
   ]
  },
  {
   "cell_type": "code",
   "execution_count": 16,
   "id": "dc6a3933-3d89-4685-b356-956e66d178d9",
   "metadata": {},
   "outputs": [
    {
     "name": "stderr",
     "output_type": "stream",
     "text": [
      "[INFO] [03-07 16:44:54] openapi_requestor.py:316 [t:140020646860608]: requesting llm api endpoint: /embeddings/embedding-v1\n",
      "[INFO] [03-07 16:44:54] openapi_requestor.py:316 [t:140020646860608]: requesting llm api endpoint: /chat/completions_pro\n"
     ]
    },
    {
     "name": "stdout",
     "output_type": "stream",
     "text": [
      "大模型+知识库后回答 question_2 的结果：\n",
      "很抱歉，上文中并未提到王阳明。我无法在给出的上下文中找到关于王阳明的任何信息。\n",
      "\n",
      "王阳明，本名王守仁，是中国明代杰出的思想家、哲学家、文学家、军事家、教育家。他的学术体系博大精深，尤其以“致良知”和“知行合一”为核心思想，影响了后世无数文人墨客。同时，他也是明代心学的重要代表人物，精通儒、释、道三教，并能在军事上统帅征战，可谓是中国历史上罕见的全能大儒。\n",
      "\n",
      "谢谢你的提问！\n"
     ]
    }
   ],
   "source": [
    "result = qa_chain({\"query\": question_2})\n",
    "print(\"大模型+知识库后回答 question_2 的结果：\")\n",
    "print(result[\"result\"])\n"
   ]
  },
  {
   "cell_type": "code",
   "execution_count": 17,
   "id": "5c1a90d9-746c-4303-8db0-fb60e4984e1e",
   "metadata": {},
   "outputs": [
    {
     "name": "stderr",
     "output_type": "stream",
     "text": [
      "[INFO] [03-07 16:45:24] openapi_requestor.py:316 [t:140020646860608]: requesting llm api endpoint: /chat/completions_pro\n"
     ]
    },
    {
     "data": {
      "text/plain": [
       "'南瓜书是一本与机器学习相关的书籍，被形容为周志华教授的《机器学习》（西瓜书）的伴侣书。这本书是通过开源方式多人协作写成的，从读者学习的角度出发，分享编著者在学习中遇到的问题以及解决方法。对于初学者来说，这样的经验分享非常宝贵，能够引起他们的共鸣。这本书汇聚了众人的智慧和开源社区的力量，旨在为广大机器学习初学者提供帮助和指导。'"
      ]
     },
     "execution_count": 17,
     "metadata": {},
     "output_type": "execute_result"
    }
   ],
   "source": [
    "prompt_template = \"\"\"请回答下列问题:\n",
    "                            {}\"\"\".format(question_1)\n",
    "\n",
    "### 基于大模型的问答\n",
    "llm.predict(prompt_template)\n"
   ]
  },
  {
   "cell_type": "code",
   "execution_count": 18,
   "id": "b4a89282-a5ea-44dd-9dc1-82d5ef55179f",
   "metadata": {},
   "outputs": [
    {
     "name": "stderr",
     "output_type": "stream",
     "text": [
      "[INFO] [03-07 16:45:42] openapi_requestor.py:316 [t:140020646860608]: requesting llm api endpoint: /chat/completions_pro\n"
     ]
    },
    {
     "data": {
      "text/plain": [
       "'王阳明，又名王守仁，字伯安，世称阳明先生，是中国明代著名的哲学家、教育家、政治家和军事家。他出生于1472年，逝世于1529年，原籍浙江宁波余姚。王阳明在哲学上提出了“致良知”和“知行合一”的重要命题，对僵化的程朱理学产生了冲击，并最终集成了“心学”这一学派，该学派的思想本质在于强调个性化的发展、尊重个人意愿以及调动个体的创造力。\\n\\n王阳明的“致良知”思想指的是将一定的社会道德规范转化为个人的自觉意识和行为，他强调了主观立志和主体精神的力量，并倡导学习要自求自得。该思想包含了体认和实现两个层面，前者是指人自身的道德认知和情感体验过程，后者则是将人的思想和情感付诸行动的过程。\\n\\n与朱熹的“知先行后”说不同，王阳明提出了“知行合一”的观点，并坚持儒家教育的传统，将道德教育和修养放在首位。他认为，知和行是相互依存的，只有将知识和行动融为一体，才能达到真正的道德境界。\\n\\n除了在哲学上的贡献外，王阳明还是一位杰出的政治家和军事家。他曾任南赣巡抚，平定宸濠之乱，显示了他的军事才能和政治智慧。此外，他还是明代心学发展的集大成者，他的“心即理”、“知行合一”等思想影响了后世无数文人墨客，至今仍有很强的现实意义。\\n\\n总之，王阳明是中国历史上一位杰出的思想家、政治家和军事家，他的哲学思想和教育理念对中国及东亚地区产生了深远的影响。'"
      ]
     },
     "execution_count": 18,
     "metadata": {},
     "output_type": "execute_result"
    }
   ],
   "source": [
    "prompt_template = \"\"\"请回答下列问题:\n",
    "                            {}\"\"\".format(question_2)\n",
    "\n",
    "### 基于大模型的问答\n",
    "llm.predict(prompt_template)"
   ]
  },
  {
   "cell_type": "code",
   "execution_count": null,
   "id": "37dd7bf3-af46-4fd2-8cdd-77a55702a119",
   "metadata": {},
   "outputs": [],
   "source": []
  }
 ],
 "metadata": {
  "kernelspec": {
   "display_name": "Python 3 (ipykernel)",
   "language": "python",
   "name": "python3"
  },
  "language_info": {
   "codemirror_mode": {
    "name": "ipython",
    "version": 3
   },
   "file_extension": ".py",
   "mimetype": "text/x-python",
   "name": "python",
   "nbconvert_exporter": "python",
   "pygments_lexer": "ipython3",
   "version": "3.10.13"
  }
 },
 "nbformat": 4,
 "nbformat_minor": 5
}
