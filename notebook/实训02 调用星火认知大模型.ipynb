{
 "cells": [
  {
   "cell_type": "code",
   "execution_count": 3,
   "id": "764d1c55-3ec6-4787-a525-74b8c2d625be",
   "metadata": {},
   "outputs": [],
   "source": [
    "import SparkApi\n",
    "#以下密钥信息从控制台获取\n",
    "appid = \"b0e2bce3\"     #填写控制台中获取的 APPID 信息\n",
    "api_secret = \"YTQ5YmQ4OTQ5MTlmOTgwYmNlYTk0Mjg3\"   #填写控制台中获取的 APISecret 信息\n",
    "api_key =\"668d1d0234bd9c3cc53e57dba147a840\"    #填写控制台中获取的 APIKey 信息\n",
    "\n",
    "#用于配置大模型版本\n",
    "# domain = \"general\"   # v1.5版本\n",
    "# domain = \"generalv2\"    # v2.0版本\n",
    "domain = \"generalv3\"   # v3.0版本\n",
    "\n",
    "#云端环境的服务地址\n",
    "# Spark_url = \"ws://spark-api.xf-yun.com/v1.1/chat\"  # v1.5环境的地址\n",
    "# Spark_url = \"ws://spark-api.xf-yun.com/v2.1/chat\"  # v2.0环境的地址\n",
    "Spark_url = \"ws://spark-api.xf-yun.com/v3.1/chat\"  # v3.0环境的地址\n"
   ]
  },
  {
   "cell_type": "code",
   "execution_count": 4,
   "id": "0191fb94-1f39-421d-857a-9713f0bcd9f4",
   "metadata": {},
   "outputs": [],
   "source": [
    "def getText(role, content, text = []):\n",
    "    # role 是指定角色，content 是 prompt 内容\n",
    "    jsoncon = {}\n",
    "    jsoncon[\"role\"] = role\n",
    "    jsoncon[\"content\"] = content\n",
    "    text.append(jsoncon)\n",
    "    return text"
   ]
  },
  {
   "cell_type": "code",
   "execution_count": 5,
   "id": "05c4128f-178c-415d-856d-a929f85cb1da",
   "metadata": {},
   "outputs": [
    {
     "data": {
      "text/plain": [
       "[{'role': 'user', 'content': '你好'}]"
      ]
     },
     "execution_count": 5,
     "metadata": {},
     "output_type": "execute_result"
    }
   ],
   "source": [
    "question = getText(\"user\", \"你好\")\n",
    "question"
   ]
  },
  {
   "cell_type": "code",
   "execution_count": 6,
   "id": "f54f46cd-0502-4698-8fcd-892966036125",
   "metadata": {},
   "outputs": [
    {
     "name": "stdout",
     "output_type": "stream",
     "text": [
      "你好！有什么我可以帮助你的吗？ \n"
     ]
    }
   ],
   "source": [
    "response = SparkApi.main(appid,api_key,api_secret,Spark_url,domain,question)\n",
    "response"
   ]
  },
  {
   "cell_type": "code",
   "execution_count": 7,
   "id": "782d29d1-9d6f-4ccb-8ddb-e7e3a0ace814",
   "metadata": {},
   "outputs": [
    {
     "name": "stdout",
     "output_type": "stream",
     "text": [
      "Collecting fastapi\n",
      "  Downloading fastapi-0.110.0-py3-none-any.whl.metadata (25 kB)\n",
      "Requirement already satisfied: pydantic!=1.8,!=1.8.1,!=2.0.0,!=2.0.1,!=2.1.0,<3.0.0,>=1.7.4 in /root/miniconda3/envs/aleienv/lib/python3.10/site-packages (from fastapi) (2.6.1)\n",
      "Collecting starlette<0.37.0,>=0.36.3 (from fastapi)\n",
      "  Downloading starlette-0.36.3-py3-none-any.whl.metadata (5.9 kB)\n",
      "Requirement already satisfied: typing-extensions>=4.8.0 in /root/miniconda3/envs/aleienv/lib/python3.10/site-packages (from fastapi) (4.9.0)\n",
      "Requirement already satisfied: annotated-types>=0.4.0 in /root/miniconda3/envs/aleienv/lib/python3.10/site-packages (from pydantic!=1.8,!=1.8.1,!=2.0.0,!=2.0.1,!=2.1.0,<3.0.0,>=1.7.4->fastapi) (0.6.0)\n",
      "Requirement already satisfied: pydantic-core==2.16.2 in /root/miniconda3/envs/aleienv/lib/python3.10/site-packages (from pydantic!=1.8,!=1.8.1,!=2.0.0,!=2.0.1,!=2.1.0,<3.0.0,>=1.7.4->fastapi) (2.16.2)\n",
      "Requirement already satisfied: anyio<5,>=3.4.0 in /root/miniconda3/envs/aleienv/lib/python3.10/site-packages (from starlette<0.37.0,>=0.36.3->fastapi) (4.3.0)\n",
      "Requirement already satisfied: idna>=2.8 in /root/miniconda3/envs/aleienv/lib/python3.10/site-packages (from anyio<5,>=3.4.0->starlette<0.37.0,>=0.36.3->fastapi) (3.6)\n",
      "Requirement already satisfied: sniffio>=1.1 in /root/miniconda3/envs/aleienv/lib/python3.10/site-packages (from anyio<5,>=3.4.0->starlette<0.37.0,>=0.36.3->fastapi) (1.3.0)\n",
      "Requirement already satisfied: exceptiongroup>=1.0.2 in /root/miniconda3/envs/aleienv/lib/python3.10/site-packages (from anyio<5,>=3.4.0->starlette<0.37.0,>=0.36.3->fastapi) (1.2.0)\n",
      "Downloading fastapi-0.110.0-py3-none-any.whl (92 kB)\n",
      "\u001b[2K   \u001b[90m━━━━━━━━━━━━━━━━━━━━━━━━━━━━━━━━━━━━━━━━\u001b[0m \u001b[32m92.1/92.1 kB\u001b[0m \u001b[31m301.6 kB/s\u001b[0m eta \u001b[36m0:00:00\u001b[0ma \u001b[36m0:00:01\u001b[0m\n",
      "\u001b[?25hDownloading starlette-0.36.3-py3-none-any.whl (71 kB)\n",
      "\u001b[2K   \u001b[90m━━━━━━━━━━━━━━━━━━━━━━━━━━━━━━━━━━━━━━━━\u001b[0m \u001b[32m71.5/71.5 kB\u001b[0m \u001b[31m436.4 kB/s\u001b[0m eta \u001b[36m0:00:00\u001b[0m\u001b[36m0:00:01\u001b[0m\n",
      "\u001b[?25hInstalling collected packages: starlette, fastapi\n",
      "Successfully installed fastapi-0.110.0 starlette-0.36.3\n",
      "\u001b[33mWARNING: Running pip as the 'root' user can result in broken permissions and conflicting behaviour with the system package manager. It is recommended to use a virtual environment instead: https://pip.pypa.io/warnings/venv\u001b[0m\u001b[33m\n",
      "\u001b[0m"
     ]
    }
   ],
   "source": [
    "!pip install fastapi"
   ]
  },
  {
   "cell_type": "code",
   "execution_count": null,
   "id": "4bb74f16-cdfd-4354-831c-823694a6162e",
   "metadata": {},
   "outputs": [],
   "source": [
    "!pip install uvicorn[standard]"
   ]
  },
  {
   "cell_type": "code",
   "execution_count": null,
   "id": "3122e13c-849e-4d66-9cd1-045d530d99f5",
   "metadata": {},
   "outputs": [],
   "source": [
    "uvicorn spark_api:app"
   ]
  },
  {
   "cell_type": "code",
   "execution_count": null,
   "id": "932990d5-a9bf-41e5-9033-8b562a1ff4f7",
   "metadata": {},
   "outputs": [],
   "source": [
    "uvicorn spark_api:app --host 127.0.0.1 --port 8001"
   ]
  },
  {
   "cell_type": "code",
   "execution_count": 8,
   "id": "8775a2f0-598b-4293-a038-a3b790c6873b",
   "metadata": {},
   "outputs": [
    {
     "data": {
      "text/plain": [
       "'\"你好！有什么我可以帮助你的吗？\"'"
      ]
     },
     "execution_count": 8,
     "metadata": {},
     "output_type": "execute_result"
    }
   ],
   "source": [
    "import requests\n",
    "\n",
    "# api_url = \"http://127.0.0.1:8001/spark\"\n",
    "api_url = \"http://192.168.1.178:8001/spark\"\n",
    "headers = {\"Content-Type\": \"application/json\"}\n",
    "data = {\n",
    "    \"prompt\" : \"你好\",\n",
    "    \"temperature\" : 0.2,\n",
    "    \"max_tokens\" : 3096}\n",
    "\n",
    "response = requests.post(api_url, headers=headers, json=data)\n",
    "response.text"
   ]
  },
  {
   "cell_type": "code",
   "execution_count": 9,
   "id": "ef4b1e41-1a64-4bc4-93db-38874cf7900c",
   "metadata": {},
   "outputs": [],
   "source": [
    "def get_completion_spark(prompt, temperature = 0.1, max_tokens = 4096):\n",
    "\n",
    "    # api_url = \"http://127.0.0.1:8001/spark\"\n",
    "    api_url = \"http://192.168.1.178:8001/spark\"\n",
    "    headers = {\"Content-Type\": \"application/json\"}\n",
    "    data = {\n",
    "        \"prompt\" : prompt,\n",
    "        \"temperature\" : temperature,\n",
    "        \"max_tokens\" : max_tokens}\n",
    "\n",
    "    response = requests.post(api_url, headers=headers, json=data)\n",
    "    return response.text\n"
   ]
  },
  {
   "cell_type": "code",
   "execution_count": 10,
   "id": "ce8e9974-ba3a-47b6-a9cf-697917e829c7",
   "metadata": {},
   "outputs": [
    {
     "data": {
      "text/plain": [
       "'\"你好！有什么我可以帮助你的吗？\"'"
      ]
     },
     "execution_count": 10,
     "metadata": {},
     "output_type": "execute_result"
    }
   ],
   "source": [
    "get_completion_spark(\"你好\")"
   ]
  },
  {
   "cell_type": "code",
   "execution_count": 11,
   "id": "0513e904-25c9-45e8-8379-10d94d2cbad6",
   "metadata": {},
   "outputs": [],
   "source": [
    "from spark_llm import Spark_LLM"
   ]
  },
  {
   "cell_type": "code",
   "execution_count": 17,
   "id": "076704ef-6283-4b09-ba8c-5e147f302a11",
   "metadata": {},
   "outputs": [],
   "source": [
    "from dotenv import find_dotenv, load_dotenv\n",
    "import os\n",
    "\n",
    "# 读取本地/项目的环境变量。\n",
    "\n",
    "# find_dotenv()寻找并定位.env文件的路径\n",
    "# load_dotenv()读取该.env文件，并将其中的环境变量加载到当前的运行环境中\n",
    "# 如果你设置的是全局的环境变量，这行代码则没有任何作用。\n",
    "# _ = load_dotenv(find_dotenv())\n",
    "_ = load_dotenv('../QA_Project/.env')\n"
   ]
  },
  {
   "cell_type": "code",
   "execution_count": 20,
   "id": "e03e419d-94bd-4e89-94f9-5147843effaf",
   "metadata": {},
   "outputs": [],
   "source": [
    "# 获取环境变量 \n",
    "spark_app_id = os.environ[\"spark_app_id\"]\n",
    "spark_api_key = os.environ[\"spark_api_key\"]\n",
    "spark_secret_key = os.environ[\"spark_secret_key\"]"
   ]
  },
  {
   "cell_type": "code",
   "execution_count": 21,
   "id": "dbeb9854-69b0-4ca4-9cd4-2aa70db443d7",
   "metadata": {},
   "outputs": [],
   "source": [
    "llm = Spark_LLM(appid=spark_app_id,api_key=spark_api_key, api_secret=spark_secret_key)"
   ]
  },
  {
   "cell_type": "code",
   "execution_count": 22,
   "id": "8a62104d-2e7b-4402-9c41-326b7984b607",
   "metadata": {},
   "outputs": [
    {
     "name": "stderr",
     "output_type": "stream",
     "text": [
      "/root/miniconda3/envs/aleienv/lib/python3.10/site-packages/langchain_core/_api/deprecation.py:117: LangChainDeprecationWarning: The function `__call__` was deprecated in LangChain 0.1.7 and will be removed in 0.2.0. Use invoke instead.\n",
      "  warn_deprecated(\n"
     ]
    },
    {
     "name": "stdout",
     "output_type": "stream",
     "text": [
      " \n"
     ]
    },
    {
     "data": {
      "text/plain": [
       "'你好！有什么我可以帮助你的吗？'"
      ]
     },
     "execution_count": 22,
     "metadata": {},
     "output_type": "execute_result"
    }
   ],
   "source": [
    "llm(\"你好\")"
   ]
  },
  {
   "cell_type": "code",
   "execution_count": null,
   "id": "68cd23e7-ae7e-45f3-8200-21b1f36b7802",
   "metadata": {},
   "outputs": [],
   "source": []
  }
 ],
 "metadata": {
  "kernelspec": {
   "display_name": "Python 3 (ipykernel)",
   "language": "python",
   "name": "python3"
  },
  "language_info": {
   "codemirror_mode": {
    "name": "ipython",
    "version": 3
   },
   "file_extension": ".py",
   "mimetype": "text/x-python",
   "name": "python",
   "nbconvert_exporter": "python",
   "pygments_lexer": "ipython3",
   "version": "3.10.13"
  }
 },
 "nbformat": 4,
 "nbformat_minor": 5
}
