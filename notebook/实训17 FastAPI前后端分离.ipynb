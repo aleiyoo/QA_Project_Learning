{
 "cells": [
  {
   "cell_type": "code",
   "execution_count": 1,
   "id": "cf27f1dd-b967-4a30-9798-7c20dd2e1bf0",
   "metadata": {},
   "outputs": [],
   "source": [
    "from fastapi import FastAPI\n",
    "from pydantic import BaseModel\n",
    "import os\n",
    "\n",
    "app = FastAPI() # 创建 api 对象\n"
   ]
  },
  {
   "cell_type": "code",
   "execution_count": null,
   "id": "cfce44cf-ceaf-453a-bc0c-4f2a6f0be2f8",
   "metadata": {},
   "outputs": [],
   "source": [
    "# 定义一个数据模型，用于接收POST请求中的数据\n",
    "class Item(BaseModel):\n",
    "    prompt : str # 用户 prompt\n",
    "    model : str = \"ERNIE-Bot-4\"# 使用的模型\n",
    "    temperature : float = 0.1# 温度系数\n",
    "    if_history : bool = False # 是否使用历史对话功能\n",
    "    # API_Key\n",
    "    api_key: str = None\n",
    "    # Secret_Key\n",
    "    secret_key : str = None\n",
    "    # access_token\n",
    "    access_token: str = None\n",
    "    # APPID\n",
    "    appid : str = None\n",
    "    # APISecret\n",
    "    Spark_api_secret : str = None\n",
    "    # Secret_key\n",
    "    Wenxin_secret_key : str = None\n",
    "    # 数据库路径\n",
    "    db_path : str = \"../database/vector_wenxin_db\"\n",
    "    # 源文件路径\n",
    "    file_path : str = \"../../data_base/knowledge_db\"\n",
    "    # prompt template\n",
    "    prompt_template : str = template\n",
    "    # Template 变量\n",
    "    input_variables : list = [\"context\",\"question\"]\n",
    "    # Embdding\n",
    "    embedding : str = \"wenxin\"\n",
    "    # Top K\n",
    "    top_k : int = 5\n",
    "    # embedding_key\n",
    "    embedding_key : str = None"
   ]
  },
  {
   "cell_type": "code",
   "execution_count": null,
   "id": "44654097-5c1a-4a3e-9638-ffddb2b8ed3f",
   "metadata": {},
   "outputs": [],
   "source": [
    "@app.post(\"/answer/\")\n",
    "async def get_response(item: Item):\n",
    "    # 首先确定需要调用的链\n",
    "    if not item.if_history:\n",
    "        # 调用 Chat 链\n",
    "        # return item.embedding_key\n",
    "        if item.embedding_key == None:\n",
    "            # wenxin比较特殊，要传入ak和sk鉴权得到access_token\n",
    "            if item.embedding == \"wenxin\":\n",
    "                item.embedding_key = [item.api_key, item.Wenxin_secret_key]\n",
    "            # 否则call_embedding.py内的parse_llm_api_key会读取环境变量进行赋值\n",
    "        chain = QA_chain_self(model=item.model, temperature=item.temperature, \n",
    "                              top_k=item.top_k, file_path=item.file_path, \n",
    "                              persist_path=item.db_path, \n",
    "                              appid=item.appid, api_key=item.api_key, \n",
    "                              embedding=item.embedding, template=template, \n",
    "                              Spark_api_secret=item.Spark_api_secret, \n",
    "                              Wenxin_secret_key=item.Wenxin_secret_key, \n",
    "                              embedding_key=item.embedding_key)\n",
    "\n",
    "        response = chain.answer(question = item.prompt)\n",
    "    \n",
    "        return response\n",
    "    \n",
    "    # 由于 API 存在即时性问题，不能支持历史链\n",
    "    else:\n",
    "        return \"API 不支持历史链\""
   ]
  },
  {
   "cell_type": "code",
   "execution_count": 11,
   "id": "1e627207-9bcf-43d2-a407-ab17b928caf5",
   "metadata": {},
   "outputs": [],
   "source": [
    "# 加载.env文件\n",
    "from dotenv import find_dotenv, load_dotenv\n",
    "import os\n",
    "\n",
    "# 读取本地/项目的环境变量。\n",
    "\n",
    "# find_dotenv()寻找并定位.env文件的路径\n",
    "# load_dotenv()读取该.env文件，并将其中的环境变量加载到当前的运行环境中\n",
    "# 如果你设置的是全局的环境变量，这行代码则没有任何作用。\n",
    "# _ = load_dotenv(find_dotenv())\n",
    "_ = load_dotenv('../QA_Project/.env')\n",
    "\n",
    "# 获取环境变量 \n",
    "wenxin_api_key = os.environ[\"wenxin_api_key\"]\n",
    "wenxin_secret_key = os.environ[\"wenxin_secret_key\"]"
   ]
  },
  {
   "cell_type": "code",
   "execution_count": 12,
   "id": "244693f8-eb61-4b50-b039-535559afbf5f",
   "metadata": {},
   "outputs": [],
   "source": [
    "import requests\n",
    "\n",
    "url = \"http://127.0.0.1:8000/answer\"\n",
    "\n",
    "data = {\n",
    "    \"prompt\":\"什么是蘑菇书？\",\n",
    "    \"api_key\":wenxin_api_key,\n",
    "    \"Wenxin_secret_key\":wenxin_secret_key,\n",
    "}\n",
    "\n",
    "r = requests.post(url, json=data, headers = {\"Content-Type\": \"application/json\"})"
   ]
  },
  {
   "cell_type": "code",
   "execution_count": 13,
   "id": "ec982d13-b9b5-441c-8613-567f2e3b5553",
   "metadata": {},
   "outputs": [
    {
     "name": "stdout",
     "output_type": "stream",
     "text": [
      "<Response [200]>\n"
     ]
    }
   ],
   "source": [
    "print(r)"
   ]
  },
  {
   "cell_type": "code",
   "execution_count": 14,
   "id": "c7f36405-7fbb-4375-96ed-53697ba67a2a",
   "metadata": {},
   "outputs": [
    {
     "data": {
      "text/plain": [
       "'\"蘑菇书是一本介绍强化学习知识的书籍，全书共分为十三章，涵盖了强化学习的基础知识和传统算法，以及适用强化学习的算法和常见问题的解决方法。书名寓意来源于超级玛里奥游戏中的蘑菇，象征着读者在阅读本书后，可以像玛里奥一样变得更加强大。谢谢你的提问！\"'"
      ]
     },
     "execution_count": 14,
     "metadata": {},
     "output_type": "execute_result"
    }
   ],
   "source": [
    "r.text"
   ]
  },
  {
   "cell_type": "code",
   "execution_count": null,
   "id": "7a750ff8-f191-4fea-9c9f-97d59f0e80a6",
   "metadata": {},
   "outputs": [],
   "source": []
  }
 ],
 "metadata": {
  "kernelspec": {
   "display_name": "Python 3 (ipykernel)",
   "language": "python",
   "name": "python3"
  },
  "language_info": {
   "codemirror_mode": {
    "name": "ipython",
    "version": 3
   },
   "file_extension": ".py",
   "mimetype": "text/x-python",
   "name": "python",
   "nbconvert_exporter": "python",
   "pygments_lexer": "ipython3",
   "version": "3.10.13"
  }
 },
 "nbformat": 4,
 "nbformat_minor": 5
}
