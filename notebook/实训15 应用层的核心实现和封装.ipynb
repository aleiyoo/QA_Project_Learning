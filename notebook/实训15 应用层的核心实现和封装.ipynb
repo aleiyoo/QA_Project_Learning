{
 "cells": [
  {
   "cell_type": "code",
   "execution_count": 8,
   "id": "dcb467e0-5923-4bb9-b1f3-a4a153e88bca",
   "metadata": {},
   "outputs": [],
   "source": [
    "import os\n",
    "import sys\n",
    "sys.path.append(\"../QA_Project/project/\")\n",
    "sys.path.append(\"../QA_Project/project/database/\")"
   ]
  },
  {
   "cell_type": "code",
   "execution_count": 9,
   "id": "ab9b7f39-f187-430c-a84c-1d6a4108f3b8",
   "metadata": {},
   "outputs": [],
   "source": [
    "from qa_chain.Chat_QA_chain_self import Chat_QA_chain_self #带历史记录的问答链\n",
    "from qa_chain.QA_chain_self import QA_chain_self       #不带历史记录的问答链"
   ]
  },
  {
   "cell_type": "code",
   "execution_count": 11,
   "id": "c8e2ae73-5e26-4fb8-aa53-74a8a6b50cb5",
   "metadata": {},
   "outputs": [],
   "source": [
    "from dotenv import find_dotenv, load_dotenv\n",
    "import os\n",
    "\n",
    "# 读取本地/项目的环境变量。\n",
    "\n",
    "# find_dotenv()寻找并定位.env文件的路径\n",
    "# load_dotenv()读取该.env文件，并将其中的环境变量加载到当前的运行环境中\n",
    "# 如果你设置的是全局的环境变量，这行代码则没有任何作用。\n",
    "# _ = load_dotenv(find_dotenv())\n",
    "_ = load_dotenv('../QA_Project/.env')\n",
    "\n",
    "# 获取环境变量 \n",
    "wenxin_api_key = os.environ[\"wenxin_api_key\"]\n",
    "wenxin_secret_key = os.environ[\"wenxin_secret_key\"]\n",
    "spark_appid = os.environ[\"spark_app_id\"]\n",
    "spark_api_secret = os.environ[\"spark_secret_key\"]\n",
    "spark_api_key = os.environ[\"spark_api_key\"]\n",
    "zhipuai_api_key = os.environ[\"ZHIPUAI_API_KEY\"]"
   ]
  },
  {
   "cell_type": "code",
   "execution_count": 12,
   "id": "1d0f12a8-9bb4-40a8-bae8-0e905b73520c",
   "metadata": {},
   "outputs": [],
   "source": [
    "model:str = \"ERNIE-Bot-4\"\n",
    "temperature:float=0.1\n",
    "top_k:int=4 \n",
    "chat_history:list=[] \n",
    "file_path:str = \"../../data_base/knowledge_db\"\n",
    "persist_path:str = \"../../data_base/vector_db/chroma\"\n",
    "appid:str=None \n",
    "api_key:str = wenxin_api_key   #or 从本地环境读取\n",
    "api_secret:str=wenxin_secret_key \n",
    "embedding = \"wenxin\"     # [\"wenxin\",\"zhipuai\"]  默认wenxin\n",
    "embedding_key = [wenxin_api_key,wenxin_secret_key]"
   ]
  },
  {
   "cell_type": "code",
   "execution_count": 13,
   "id": "3dd2e160-a488-4469-b896-f337a85cab9e",
   "metadata": {},
   "outputs": [
    {
     "name": "stdout",
     "output_type": "stream",
     "text": [
      "<qa_chain.Chat_QA_chain_self.Chat_QA_chain_self object at 0x7f1324d8abc0>\n"
     ]
    }
   ],
   "source": [
    "qa_chain = Chat_QA_chain_self(model=model, temperature=temperature, \n",
    "                              top_k=top_k, chat_history=chat_history, \n",
    "                              file_path=file_path, persist_path=persist_path, \n",
    "                              api_key=api_key, embedding = embedding, \n",
    "                              embedding_key=embedding_key)\n",
    "print(qa_chain)"
   ]
  },
  {
   "cell_type": "code",
   "execution_count": 14,
   "id": "f5cdcbf3-e962-4164-b04e-534b61c115e7",
   "metadata": {},
   "outputs": [],
   "source": [
    "import logging\n",
    "logger_qf = logging.getLogger('qianfan')\n",
    "logger_qf.setLevel(logging.ERROR)"
   ]
  },
  {
   "cell_type": "code",
   "execution_count": 15,
   "id": "414664bf-0c45-4477-8e88-5e6f8ba9ac4c",
   "metadata": {},
   "outputs": [],
   "source": [
    "question = \"我可以学习到关于强化学习的知识吗？\"\n",
    "#answer,chat_history = qa_chain.answer(question)\n",
    "answer = qa_chain.answer(question)"
   ]
  },
  {
   "cell_type": "code",
   "execution_count": 16,
   "id": "bba3b1f0-e28f-4d4d-95e9-8fba7f1323e1",
   "metadata": {},
   "outputs": [
    {
     "name": "stdout",
     "output_type": "stream",
     "text": [
      "[('我可以学习到关于强化学习的知识吗？', '当然可以！强化学习是机器学习的一个重要分支，它涉及智能体（Agent）通过与环境进行交互来学习并执行最佳动作的过程。你可以通过学习相关的教材、参加在线课程、阅读研究论文等方式来学习强化学习的知识。此外，还可以尝试使用强化学习算法来解决实际问题，通过实践来加深对知识的理解。希望这些信息能对你有所帮助！')]\n",
      "[('我可以学习到关于强化学习的知识吗？', '当然可以！强化学习是机器学习的一个重要分支，它涉及智能体（Agent）通过与环境进行交互来学习并执行最佳动作的过程。你可以通过学习相关的教材、参加在线课程、阅读研究论文等方式来学习强化学习的知识。此外，还可以尝试使用强化学习算法来解决实际问题，通过实践来加深对知识的理解。希望这些信息能对你有所帮助！')]\n"
     ]
    }
   ],
   "source": [
    "print(answer)\n",
    "print(chat_history)"
   ]
  },
  {
   "cell_type": "code",
   "execution_count": 17,
   "id": "48345613-1c3c-47ec-85dc-49155e56ba1e",
   "metadata": {},
   "outputs": [],
   "source": [
    "question = \"为什么这门课需要教这方面的知识？\"\n",
    "answer,chat_history = qa_chain.answer(question)"
   ]
  },
  {
   "cell_type": "code",
   "execution_count": 18,
   "id": "b2799397-aaba-4958-8f8c-5743271f17ff",
   "metadata": {},
   "outputs": [
    {
     "name": "stdout",
     "output_type": "stream",
     "text": [
      "('我可以学习到关于强化学习的知识吗？', '当然可以！强化学习是机器学习的一个重要分支，它涉及智能体（Agent）通过与环境进行交互来学习并执行最佳动作的过程。你可以通过学习相关的教材、参加在线课程、阅读研究论文等方式来学习强化学习的知识。此外，还可以尝试使用强化学习算法来解决实际问题，通过实践来加深对知识的理解。希望这些信息能对你有所帮助！')\n",
      "('为什么这门课需要教这方面的知识？', '教授强化学习的知识有以下几个重要原因：\\n\\n1. 理解并掌握先进技术：强化学习是机器学习的一个重要分支，它能够让计算机代理通过与环境互动来学习决策制定和行为选择。教授强化学习可以帮助学生理解并掌握这一先进技术，为未来的研究和应用打下基础。\\n\\n2. 培养问题解决能力：强化学习涉及的问题往往具有复杂性和不确定性，需要学生通过分析和设计合适的算法来解决。教授强化学习可以培养学生的分析思维和解决问题的能力，这对于他们未来的职业发展具有重要意义。\\n\\n3. 拓展应用领域：强化学习在人工智能和自动化控制等领域有广泛的应用，例如自动驾驶、机器人控制、游戏AI等。教授强化学习可以帮助学生了解这些应用领域，并激发他们将这些技术应用于实际问题的兴趣。\\n\\n4. 提升竞争力：随着人工智能技术的不断发展，掌握强化学习等先进技术的人才将具有更高的竞争力。教授强化学习可以提升学生的技能水平，使他们在就业市场上更具优势。\\n\\n总之，教授强化学习的知识对于培养学生的技能、拓展应用领域、提升竞争力等方面都具有重要意义。')\n"
     ]
    }
   ],
   "source": [
    "print(answer)\n",
    "print(chat_history)"
   ]
  },
  {
   "cell_type": "code",
   "execution_count": 21,
   "id": "8dddee04-70f6-41e0-a9bc-933c6a0aa76a",
   "metadata": {},
   "outputs": [],
   "source": [
    "# 定义参数\n",
    "# model可选值：[\"ERNIE-Bot\", \"ERNIE-Bot-4\", \"ERNIE-Bot-turbo\"]，\n",
    "# [\"Spark-1.5\", \"Spark-3.0\"]，[\"glm-4\", \"glm-4v\", \"glm-3-turbo\"]\n",
    "model:str = \"Spark-3.0\"\n",
    "temperature:float=0.1\n",
    "top_k:int=4 \n",
    "file_path:str = \"../../data_base/knowledge_db\"\n",
    "persist_path:str = \"../QA_Project/project/database/vector_data_base/chroma\"\n",
    "appid:str=spark_appid\n",
    "api_key:str = spark_api_key   #or 从本地环境读取\n",
    "api_secret:str=spark_api_secret \n",
    "embedding = \"wenxin\"     # [\"wenxin\",\"zhipuai\"]  默认wenxin\n",
    "embedding_key = [wenxin_api_key,wenxin_secret_key]"
   ]
  },
  {
   "cell_type": "code",
   "execution_count": 22,
   "id": "38257064-ddec-4bdc-87fa-81b61ed2aee7",
   "metadata": {},
   "outputs": [
    {
     "name": "stdout",
     "output_type": "stream",
     "text": [
      "<qa_chain.QA_chain_self.QA_chain_self object at 0x7f131df51480>\n"
     ]
    }
   ],
   "source": [
    "qa_chain = QA_chain_self(model=model, \n",
    "                         temperature=temperature, \n",
    "                         top_k=top_k, file_path=file_path, \n",
    "                         persist_path=persist_path, \n",
    "                         appid=appid,api_key=api_key,Spark_api_secret=api_secret,\n",
    "                         embedding = embedding,embedding_key=embedding_key)\n",
    "print(qa_chain)"
   ]
  },
  {
   "cell_type": "code",
   "execution_count": 23,
   "id": "b289cc80-b184-43de-bf02-119c02d3cc5b",
   "metadata": {},
   "outputs": [
    {
     "name": "stdout",
     "output_type": "stream",
     "text": [
      " \n",
      "《蘑菇书》是一本关于强化学习的教程，寓意是希望读者在阅读这本书后，能够饶有兴致地探索强化学习，像马里奥那样。 全书一共十三章可以分为两部分：第一部分介绍了强化学习的基础知识以及传统的强化学习算法；第二部分介绍了适用强化学习的算法以及常见问题的解决方法。\n"
     ]
    }
   ],
   "source": [
    "question = \"什么是蘑菇书？\"\n",
    "answer = qa_chain.answer(question)\n",
    "print(answer)"
   ]
  },
  {
   "cell_type": "code",
   "execution_count": null,
   "id": "402d9e42-3f46-4ca3-941d-1e4635693799",
   "metadata": {},
   "outputs": [],
   "source": []
  }
 ],
 "metadata": {
  "kernelspec": {
   "display_name": "Python 3 (ipykernel)",
   "language": "python",
   "name": "python3"
  },
  "language_info": {
   "codemirror_mode": {
    "name": "ipython",
    "version": 3
   },
   "file_extension": ".py",
   "mimetype": "text/x-python",
   "name": "python",
   "nbconvert_exporter": "python",
   "pygments_lexer": "ipython3",
   "version": "3.10.13"
  }
 },
 "nbformat": 4,
 "nbformat_minor": 5
}
