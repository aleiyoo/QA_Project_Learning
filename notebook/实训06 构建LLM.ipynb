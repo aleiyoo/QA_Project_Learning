{
 "cells": [
  {
   "cell_type": "code",
   "execution_count": 1,
   "id": "bc2ed06c-0e31-45db-95dd-1ac284fb0050",
   "metadata": {},
   "outputs": [],
   "source": [
    "import sys\n",
    "sys.path.append(\"../\")"
   ]
  },
  {
   "cell_type": "code",
   "execution_count": 2,
   "id": "da2c7193",
   "metadata": {},
   "outputs": [],
   "source": [
    "# 加载.env文件\n",
    "from dotenv import find_dotenv, load_dotenv\n",
    "import os\n",
    "\n",
    "# 读取本地/项目的环境变量。\n",
    "\n",
    "# find_dotenv()寻找并定位.env文件的路径\n",
    "# load_dotenv()读取该.env文件，并将其中的环境变量加载到当前的运行环境中\n",
    "# 如果你设置的是全局的环境变量，这行代码则没有任何作用。\n",
    "# _ = load_dotenv(find_dotenv())\n",
    "_ = load_dotenv('../QA_Project/.env')\n",
    "\n",
    "# 获取环境变量 \n",
    "wenxin_api_key = os.environ[\"wenxin_api_key\"]\n",
    "wenxin_secret_key = os.environ[\"wenxin_secret_key\"]\n",
    "spark_appid = os.environ[\"spark_app_id\"]\n",
    "spark_api_secret = os.environ[\"spark_secret_key\"]\n",
    "spark_api_key = os.environ[\"spark_api_key\"]\n",
    "zhipuai_api_key = os.environ[\"ZHIPUAI_API_KEY\"]"
   ]
  },
  {
   "cell_type": "code",
   "execution_count": 3,
   "id": "6365988b",
   "metadata": {},
   "outputs": [
    {
     "name": "stderr",
     "output_type": "stream",
     "text": [
      "/root/miniconda3/envs/aleienv/lib/python3.10/site-packages/langchain_core/_api/deprecation.py:117: LangChainDeprecationWarning: The function `__call__` was deprecated in LangChain 0.1.7 and will be removed in 0.2.0. Use invoke instead.\n",
      "  warn_deprecated(\n"
     ]
    },
    {
     "name": "stdout",
     "output_type": "stream",
     "text": [
      " \n"
     ]
    },
    {
     "data": {
      "text/plain": [
       "'您好，我是科大讯飞研发的认知智能大模型，我的名字叫讯飞星火认知大模型。我可以和人类进行自然交流，解答问题，高效完成各领域认知智能需求。'"
      ]
     },
     "execution_count": 3,
     "metadata": {},
     "output_type": "execute_result"
    }
   ],
   "source": [
    "from QA_Project.project.llm.spark_llm import Spark_LLM\n",
    "llm = Spark_LLM(model = \"spark\", appid=spark_appid, api_secret=spark_api_secret, api_key=spark_api_key)\n",
    "llm(\"你是谁\")"
   ]
  },
  {
   "cell_type": "code",
   "execution_count": 5,
   "id": "7e76f233",
   "metadata": {},
   "outputs": [],
   "source": [
    "from QA_Project.project.llm.call_llm import get_completion"
   ]
  },
  {
   "cell_type": "code",
   "execution_count": 6,
   "id": "0b6993d1",
   "metadata": {},
   "outputs": [
    {
     "name": "stdout",
     "output_type": "stream",
     "text": [
      " \n"
     ]
    },
    {
     "data": {
      "text/plain": [
       "'您好，我是科大讯飞研发的认知智能大模型，我的名字叫讯飞星火认知大模型。我可以和人类进行自然交流，解答问题，高效完成各领域认知智能需求。'"
      ]
     },
     "execution_count": 6,
     "metadata": {},
     "output_type": "execute_result"
    }
   ],
   "source": [
    "get_completion(\"你是谁\",model=\"Spark-3.0\", \n",
    "               appid=spark_appid, \n",
    "               api_key=spark_api_key, \n",
    "               api_secret=spark_api_secret)"
   ]
  },
  {
   "cell_type": "code",
   "execution_count": 7,
   "id": "889feb7f",
   "metadata": {},
   "outputs": [
    {
     "data": {
      "text/plain": [
       "'您好，我是百度研发的知识增强大语言模型，中文名是文心一言，英文名是ERNIE Bot。我能够与人对话互动，回答问题，协助创作，高效便捷地帮助人们获取信息、知识和灵感。如果您有任何问题，请随时告诉我。'"
      ]
     },
     "execution_count": 7,
     "metadata": {},
     "output_type": "execute_result"
    }
   ],
   "source": [
    "get_completion(\"你是谁\",model=\"ERNIE-Bot-4\", \n",
    "               api_key=wenxin_api_key, \n",
    "               secret_key=wenxin_secret_key)"
   ]
  },
  {
   "cell_type": "code",
   "execution_count": 8,
   "id": "e0c87cb0",
   "metadata": {},
   "outputs": [
    {
     "data": {
      "text/plain": [
       "'你好，我是一个人工智能助手，名字叫做ChatGLM。我是基于智谱AI公司在2023年训练的语言模型开发的，我的目的是针对用户的问题和要求提供适当的答复和支持。有什么可以帮助你的吗？'"
      ]
     },
     "execution_count": 8,
     "metadata": {},
     "output_type": "execute_result"
    }
   ],
   "source": [
    "get_completion(\"你是谁\",model=\"glm-4\", \n",
    "               api_key=zhipuai_api_key,)"
   ]
  },
  {
   "cell_type": "code",
   "execution_count": null,
   "id": "88bca306-41f3-41ad-9838-5f0cc0064c80",
   "metadata": {},
   "outputs": [],
   "source": []
  }
 ],
 "metadata": {
  "kernelspec": {
   "display_name": "Python 3 (ipykernel)",
   "language": "python",
   "name": "python3"
  },
  "language_info": {
   "codemirror_mode": {
    "name": "ipython",
    "version": 3
   },
   "file_extension": ".py",
   "mimetype": "text/x-python",
   "name": "python",
   "nbconvert_exporter": "python",
   "pygments_lexer": "ipython3",
   "version": "3.10.13"
  }
 },
 "nbformat": 4,
 "nbformat_minor": 5
}
