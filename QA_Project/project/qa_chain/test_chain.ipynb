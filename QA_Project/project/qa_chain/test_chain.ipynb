{
 "cells": [
  {
   "cell_type": "code",
   "execution_count": 1,
   "id": "29d1ba42-c3e0-45b3-b7ef-f47e28f5d28e",
   "metadata": {},
   "outputs": [],
   "source": [
    "import os\n",
    "import sys\n",
    "sys.path.append(\"../\")"
   ]
  },
  {
   "cell_type": "code",
   "execution_count": 2,
   "id": "b9c403a3-c1ba-4114-961a-897bf77bb646",
   "metadata": {},
   "outputs": [],
   "source": [
    "from Chat_QA_chain_self import Chat_QA_chain_self #带历史记录的问答链\n",
    "from QA_chain_self import QA_chain_self       #不带历史记录的问答链"
   ]
  },
  {
   "cell_type": "code",
   "execution_count": 3,
   "id": "3bfdff0f-a2e6-4baa-928a-44cc890a2f0e",
   "metadata": {},
   "outputs": [],
   "source": [
    "from dotenv import find_dotenv, load_dotenv\n",
    "import os\n",
    "\n",
    "# 读取本地/项目的环境变量。\n",
    "\n",
    "# find_dotenv()寻找并定位.env文件的路径\n",
    "# load_dotenv()读取该.env文件，并将其中的环境变量加载到当前的运行环境中\n",
    "# 如果你设置的是全局的环境变量，这行代码则没有任何作用。\n",
    "# _ = load_dotenv(find_dotenv())\n",
    "_ = load_dotenv('../.env')\n",
    "\n",
    "# 获取环境变量 \n",
    "wenxin_api_key = os.environ[\"wenxin_api_key\"]\n",
    "wenxin_secret_key = os.environ[\"wenxin_secret_key\"]\n",
    "spark_appid = os.environ[\"spark_app_id\"]\n",
    "spark_api_secret = os.environ[\"spark_secret_key\"]\n",
    "spark_api_key = os.environ[\"spark_api_key\"]\n",
    "zhipuai_api_key = os.environ[\"ZHIPUAI_API_KEY\"]"
   ]
  },
  {
   "cell_type": "code",
   "execution_count": 25,
   "id": "94ccd6e1-9021-4848-a6a8-21fc9e69572b",
   "metadata": {},
   "outputs": [],
   "source": [
    "model:str = \"ERNIE-Bot-4\"\n",
    "temperature:float=0.1\n",
    "top_k:int=4 \n",
    "chat_history:list=[] \n",
    "file_path:str = \"../../data_base/knowledge_db\"\n",
    "persist_path:str = \"../../data_base/vector_db/chroma\"\n",
    "appid:str=None \n",
    "api_key:str = wenxin_api_key   #or 从本地环境读取\n",
    "api_secret:str=wenxin_secret_key \n",
    "embedding = \"wenxin\"     # [\"wenxin\",\"zhipuai\"]  默认wenxin\n",
    "embedding_key = [wenxin_api_key,wenxin_secret_key]"
   ]
  },
  {
   "cell_type": "code",
   "execution_count": 5,
   "id": "63144a55-3c8a-4d59-a17e-2b30e52183a2",
   "metadata": {},
   "outputs": [
    {
     "name": "stdout",
     "output_type": "stream",
     "text": [
      "<Chat_QA_chain_self.Chat_QA_chain_self object at 0x7f7479c4bd90>\n"
     ]
    }
   ],
   "source": [
    "qa_chain = Chat_QA_chain_self(model=model, temperature=temperature, \n",
    "                              top_k=top_k, chat_history=chat_history, \n",
    "                              file_path=file_path, persist_path=persist_path, \n",
    "                              api_key=api_key, embedding = embedding, \n",
    "                              embedding_key=embedding_key)\n",
    "print(qa_chain)"
   ]
  },
  {
   "cell_type": "code",
   "execution_count": 6,
   "id": "e3567ef5-b630-4123-8057-151a49d2fc03",
   "metadata": {},
   "outputs": [],
   "source": [
    "import logging\n",
    "logger_qf = logging.getLogger('qianfan')\n",
    "logger_qf.setLevel(logging.ERROR)"
   ]
  },
  {
   "cell_type": "code",
   "execution_count": 7,
   "id": "3e4d94b5-4da3-4a37-bf12-d28d112f6049",
   "metadata": {},
   "outputs": [
    {
     "name": "stderr",
     "output_type": "stream",
     "text": [
      "/root/miniconda3/envs/aleienv/lib/python3.10/site-packages/langchain_core/_api/deprecation.py:117: LangChainDeprecationWarning: The function `__call__` was deprecated in LangChain 0.1.0 and will be removed in 0.2.0. Use invoke instead.\n",
      "  warn_deprecated(\n"
     ]
    }
   ],
   "source": [
    "question = \"我可以学习到关于强化学习的知识吗？\"\n",
    "#answer,chat_history = qa_chain.answer(question)\n",
    "answer = qa_chain.answer(question)"
   ]
  },
  {
   "cell_type": "code",
   "execution_count": 8,
   "id": "a0d0c9c6-7cc4-4e0b-95b6-6d6f51018a2a",
   "metadata": {},
   "outputs": [
    {
     "name": "stdout",
     "output_type": "stream",
     "text": [
      "[('我可以学习到关于强化学习的知识吗？', '当然可以！强化学习是机器学习的一个重要分支，它涉及智能体在与环境交互中通过试错学习来做出最佳决策。你可以通过学习强化学习的基本概念、算法和应用来深入了解这一领域。有许多在线课程、教材和研究论文可以帮助你开始学习强化学习，并根据你的兴趣和需求进行深入探索。祝你学习顺利！')]\n",
      "[('我可以学习到关于强化学习的知识吗？', '当然可以！强化学习是机器学习的一个重要分支，它涉及智能体在与环境交互中通过试错学习来做出最佳决策。你可以通过学习强化学习的基本概念、算法和应用来深入了解这一领域。有许多在线课程、教材和研究论文可以帮助你开始学习强化学习，并根据你的兴趣和需求进行深入探索。祝你学习顺利！')]\n"
     ]
    }
   ],
   "source": [
    "print(answer)\n",
    "print(chat_history)"
   ]
  },
  {
   "cell_type": "code",
   "execution_count": 9,
   "id": "ca95c567-861c-45fc-87e7-b2e42250eb0d",
   "metadata": {},
   "outputs": [],
   "source": [
    "question = \"为什么这门课需要教这方面的知识？\"\n",
    "answer,chat_history = qa_chain.answer(question)"
   ]
  },
  {
   "cell_type": "code",
   "execution_count": 10,
   "id": "5f7e43f2-105d-4446-952d-4fb70d1cbe6d",
   "metadata": {},
   "outputs": [
    {
     "name": "stdout",
     "output_type": "stream",
     "text": [
      "('我可以学习到关于强化学习的知识吗？', '当然可以！强化学习是机器学习的一个重要分支，它涉及智能体在与环境交互过程中学习如何做出最佳决策。通过强化学习，你可以学习如何让智能体在不确定的情况下做出好的决策，并且这种技术可以应用于各种领域，如自动驾驶、游戏AI、机器人控制等。\\n\\n在强化学习中，智能体通过试错的方式学习，它会根据环境的反馈来调整自己的行为，以最大化累积奖励。这种学习方法非常强大，因为它不需要预先知道正确的行为，而是通过与环境的交互来发现最佳策略。\\n\\n如果你想学习强化学习，我推荐你从基础概念开始，了解智能体、环境、状态、动作、奖励等概念，然后学习一些经典的强化学习算法，如Q-Learning、SARSA、Deep Q-Network等。同时，你也可以通过实践项目来加深理解，比如使用强化学习算法来玩一个简单的游戏或控制一个模拟机器人等。\\n\\n总之，强化学习是一个非常有趣和有用的领域，我相信你一定可以通过学习和实践来掌握它！')\n",
      "('为什么这门课需要教这方面的知识？', '教授强化学习方面的知识有以下几个重要原因：\\n\\n1. 培养决策能力：强化学习是一种让机器通过尝试和错误来学习如何做出最佳决策的方法。通过教授强化学习，可以帮助学生培养在不确定情况下做出良好决策的能力，这种能力在现实生活中同样非常重要。\\n2. 应对复杂问题：强化学习特别适合处理那些难以用传统方法建模的复杂问题。通过教授这方面的知识，可以帮助学生掌握解决这类问题的方法和工具，从而拓宽他们的解决问题的能力。\\n3. 推动人工智能发展：强化学习是人工智能领域的一个重要分支，它在自动驾驶、游戏AI、机器人控制等许多领域都有广泛应用。教授强化学习可以帮助学生了解人工智能的最新进展，并为他们未来在该领域的研究或工作打下基础。\\n4. 培养创新思维：强化学习需要不断地探索新的策略和方法以获得更好的结果。通过教授强化学习，可以鼓励学生培养创新思维和勇于尝试的精神，这对于他们未来的学术和职业发展都非常重要。\\n\\n总之，教授强化学习方面的知识不仅可以帮助学生掌握一种重要的机器学习方法，还可以培养他们的决策能力、解决复杂问题的能力、推动人工智能发展的能力以及创新思维。')\n"
     ]
    }
   ],
   "source": [
    "print(answer)\n",
    "print(chat_history)"
   ]
  },
  {
   "cell_type": "code",
   "execution_count": 30,
   "id": "50e73ba3-da22-476b-a7d4-82d35caf5e9f",
   "metadata": {},
   "outputs": [],
   "source": [
    "# 定义参数\n",
    "# model可选值：[\"ERNIE-Bot\", \"ERNIE-Bot-4\", \"ERNIE-Bot-turbo\"]，\n",
    "# [\"Spark-1.5\", \"Spark-3.0\"]，[\"glm-4\", \"glm-4v\", \"glm-3-turbo\"]\n",
    "model:str = \"Spark-3.0\"\n",
    "temperature:float=0.1\n",
    "top_k:int=4 \n",
    "file_path:str = \"../../data_base/knowledge_db\"\n",
    "persist_path:str = \"../database/vector_data_base/chroma\"\n",
    "appid:str=spark_appid\n",
    "api_key:str = spark_api_key   #or 从本地环境读取\n",
    "api_secret:str=spark_api_secret \n",
    "embedding = \"wenxin\"     # [\"wenxin\",\"zhipuai\"]  默认wenxin\n",
    "embedding_key = [wenxin_api_key,wenxin_secret_key]"
   ]
  },
  {
   "cell_type": "code",
   "execution_count": 31,
   "id": "40ddab8a-f464-4219-b95e-e40d84aaccec",
   "metadata": {},
   "outputs": [
    {
     "name": "stdout",
     "output_type": "stream",
     "text": [
      "<QA_chain_self.QA_chain_self object at 0x7f736cd39cc0>\n"
     ]
    }
   ],
   "source": [
    "qa_chain = QA_chain_self(model=model, \n",
    "                         temperature=temperature, \n",
    "                         top_k=top_k, file_path=file_path, \n",
    "                         persist_path=persist_path, \n",
    "                         appid=appid,api_key=api_key,Spark_api_secret=api_secret,\n",
    "                         embedding = embedding,embedding_key=embedding_key)\n",
    "print(qa_chain)"
   ]
  },
  {
   "cell_type": "code",
   "execution_count": 32,
   "id": "73421d47-acf8-436b-9208-c2883d6afc30",
   "metadata": {},
   "outputs": [
    {
     "name": "stdout",
     "output_type": "stream",
     "text": [
      " \n"
     ]
    }
   ],
   "source": [
    "question = \"什么是蘑菇书？\"\n",
    "answer = qa_chain.answer(question)"
   ]
  },
  {
   "cell_type": "code",
   "execution_count": 33,
   "id": "e34a1871-dab7-4a8e-b76b-e80e61b99f07",
   "metadata": {},
   "outputs": [
    {
     "name": "stdout",
     "output_type": "stream",
     "text": [
      "《蘑菇书》是一本强化学习教程，全称《Easy RL：强化学习教程》。这本书的出版过程经历了多次的修改和打磨，最终以更好的形式呈现给读者。全书共包含13章，分为两个部分。第一部分是第1至3章，主要介绍了强化学习的基础知识以及传统强化学习算法；第二部分是第4至13章，主要讨论了深度强化学习算法及其常见问题的解决方法。此外，本书的一大特色就是利用简单深入的例子来解释强化学的概念，例如通过玩视频游戏以及夏威夷的例子来解释强化学的一些基本概念。\n"
     ]
    }
   ],
   "source": [
    "print(answer)"
   ]
  },
  {
   "cell_type": "code",
   "execution_count": null,
   "id": "d5c74a95-8763-44ee-be1d-f3d622eed168",
   "metadata": {},
   "outputs": [],
   "source": []
  }
 ],
 "metadata": {
  "kernelspec": {
   "display_name": "Python 3 (ipykernel)",
   "language": "python",
   "name": "python3"
  },
  "language_info": {
   "codemirror_mode": {
    "name": "ipython",
    "version": 3
   },
   "file_extension": ".py",
   "mimetype": "text/x-python",
   "name": "python",
   "nbconvert_exporter": "python",
   "pygments_lexer": "ipython3",
   "version": "3.10.13"
  }
 },
 "nbformat": 4,
 "nbformat_minor": 5
}
