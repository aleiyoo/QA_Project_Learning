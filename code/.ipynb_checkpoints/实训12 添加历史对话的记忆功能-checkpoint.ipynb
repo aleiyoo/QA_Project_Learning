{
 "cells": [
  {
   "cell_type": "code",
   "execution_count": 1,
   "id": "c82edc71-abfd-4df5-99b7-a4d70b248c66",
   "metadata": {},
   "outputs": [],
   "source": [
    "from langchain.memory import ConversationBufferMemory\n",
    "\n",
    "memory = ConversationBufferMemory(\n",
    "    memory_key=\"chat_history\",  # 与 prompt 的输入变量保持一致。\n",
    "    return_messages=True  # 将以消息列表的形式返回聊天记录，而不是单个字符串\n",
    ")\n"
   ]
  },
  {
   "cell_type": "code",
   "execution_count": 2,
   "id": "5959b71c-1f6a-4844-bd85-cdd82a2fc475",
   "metadata": {},
   "outputs": [],
   "source": [
    "from langchain.vectorstores import Chroma\n",
    "from langchain_community.embeddings import QianfanEmbeddingsEndpoint # 调用 百度文心一言 的 Embeddings 模型\n",
    "from dotenv import load_dotenv, find_dotenv\n",
    "import os\n",
    "# _ = load_dotenv(find_dotenv()) # read local .env file\n",
    "_ = load_dotenv('../QA_Project/.env')\n",
    "\n",
    "# 获取环境变量 \n",
    "wenxin_api_key = os.environ[\"wenxin_api_key\"]\n",
    "wenxin_secret_key = os.environ[\"wenxin_secret_key\"]\n",
    "\n",
    "# 定义 Embeddings\n",
    "qianfan_embedding = QianfanEmbeddingsEndpoint(qianfan_ak=wenxin_api_key,\n",
    "                                  qianfan_sk=wenxin_secret_key) \n",
    "\n",
    "# 向量数据库持久化路径\n",
    "persist_directory = '../QA_Project/data_base/vector_db/chroma'\n",
    "\n",
    "# 加载数据库\n",
    "vectordb = Chroma(\n",
    "    persist_directory=persist_directory,  # 允许我们将persist_directory目录保存到磁盘上\n",
    "    embedding_function=qianfan_embedding\n",
    ")\n",
    "\n",
    "from langchain_community.chat_models.baidu_qianfan_endpoint import QianfanChatEndpoint\n",
    "\n",
    "llm = QianfanChatEndpoint(\n",
    "    qianfan_ak=wenxin_api_key,\n",
    "    qianfan_sk=wenxin_secret_key,model='ERNIE-Bot-4'\n",
    ")"
   ]
  },
  {
   "cell_type": "code",
   "execution_count": 3,
   "id": "7c930440-f0a7-4f96-842b-f06a11400bbb",
   "metadata": {},
   "outputs": [
    {
     "name": "stderr",
     "output_type": "stream",
     "text": [
      "/root/miniconda3/envs/aleienv/lib/python3.10/site-packages/langchain_core/_api/deprecation.py:117: LangChainDeprecationWarning: The function `__call__` was deprecated in LangChain 0.1.0 and will be removed in 0.2.0. Use invoke instead.\n",
      "  warn_deprecated(\n",
      "[INFO] [03-08 11:41:45] openapi_requestor.py:316 [t:140454624081728]: requesting llm api endpoint: /embeddings/embedding-v1\n",
      "[INFO] [03-08 11:41:45] oauth.py:207 [t:140454624081728]: trying to refresh access_token for ak `NSwW3Z***`\n",
      "[INFO] [03-08 11:41:45] oauth.py:220 [t:140454624081728]: sucessfully refresh access_token\n",
      "[INFO] [03-08 11:41:45] openapi_requestor.py:316 [t:140454624081728]: requesting llm api endpoint: /chat/completions_pro\n"
     ]
    },
    {
     "name": "stdout",
     "output_type": "stream",
     "text": [
      "是的，你可以学习到关于强化学习的知识。强化学习是机器学习的一个重要分支，它涉及智能体（Agent）在与环境交互过程中，通过试错学习来制定最佳决策策略。强化学习的核心概念包括智能体、环境、动作、策略和奖励等。在强化学习过程中，智能体根据当前环境状态选择一个动作执行，环境会因此发生变化，并给出新的状态和奖励反馈给智能体，智能体再根据这些反馈调整策略，以最大化累积奖励。强化学习应用广泛，如自动驾驶、游戏AI、机器人控制等领域。如果你想学习强化学习，可以阅读相关书籍、观看在线课程或参与实际项目实践。\n"
     ]
    }
   ],
   "source": [
    "from langchain.chains import ConversationalRetrievalChain\n",
    "\n",
    "retriever=vectordb.as_retriever()\n",
    "\n",
    "qa = ConversationalRetrievalChain.from_llm(\n",
    "    llm,\n",
    "    retriever=retriever,\n",
    "    memory=memory\n",
    ")\n",
    "question = \"我可以学习到关于强化学习的知识吗？\"\n",
    "result = qa({\"question\": question})\n",
    "print(result['answer'])\n"
   ]
  },
  {
   "cell_type": "code",
   "execution_count": 4,
   "id": "04556c4d-c65d-4ee1-9df3-4d7aea453341",
   "metadata": {},
   "outputs": [
    {
     "name": "stderr",
     "output_type": "stream",
     "text": [
      "[INFO] [03-08 11:45:47] openapi_requestor.py:316 [t:140454624081728]: requesting llm api endpoint: /chat/completions_pro\n",
      "[INFO] [03-08 11:45:49] openapi_requestor.py:316 [t:140454624081728]: requesting llm api endpoint: /embeddings/embedding-v1\n",
      "[INFO] [03-08 11:45:49] openapi_requestor.py:316 [t:140454624081728]: requesting llm api endpoint: /chat/completions_pro\n"
     ]
    },
    {
     "name": "stdout",
     "output_type": "stream",
     "text": [
      "教授关于强化学习的知识非常重要，原因主要有以下几点：\n",
      "\n",
      "1. 解决现实问题：强化学习是一种强大的机器学习技术，能够解决许多现实问题。通过教授强化学习，可以使学生掌握这种技术，并将其应用于实际问题中，如自动驾驶、机器人控制、游戏AI等。\n",
      "2. 培养决策能力：强化学习的核心是智能体通过与环境交互来学习如何做出最佳决策。这种决策能力在许多领域都非常重要，如金融、医疗、管理等。通过教授强化学习，可以培养学生的决策能力，使其在未来的职业生涯中更好地应对复杂问题。\n",
      "3. 推动人工智能发展：强化学习是人工智能领域的重要分支，对于推动人工智能的发展具有重要意义。通过教授强化学习，可以培养更多的人工智能专家，推动该领域的技术进步和应用拓展。\n",
      "4. 培养创新思维：强化学习涉及大量的试错和探索过程，需要学生具备创新思维和解决问题的能力。通过教授强化学习，可以培养学生的创新思维，使其在未来的学习和工作中更具竞争力。\n",
      "\n",
      "总之，教授关于强化学习的知识对于培养学生的技能、推动人工智能发展以及解决实际问题都具有重要意义。\n"
     ]
    }
   ],
   "source": [
    "question = \"为什么这门课需要教这方面的知识？\"\n",
    "result = qa({\"question\": question})\n",
    "print(result['answer'])"
   ]
  },
  {
   "cell_type": "code",
   "execution_count": null,
   "id": "ef65349d-312b-4718-b85c-35c2dab7d780",
   "metadata": {},
   "outputs": [],
   "source": []
  }
 ],
 "metadata": {
  "kernelspec": {
   "display_name": "Python 3 (ipykernel)",
   "language": "python",
   "name": "python3"
  },
  "language_info": {
   "codemirror_mode": {
    "name": "ipython",
    "version": 3
   },
   "file_extension": ".py",
   "mimetype": "text/x-python",
   "name": "python",
   "nbconvert_exporter": "python",
   "pygments_lexer": "ipython3",
   "version": "3.10.13"
  }
 },
 "nbformat": 4,
 "nbformat_minor": 5
}
