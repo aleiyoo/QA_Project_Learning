{
 "cells": [
  {
   "cell_type": "code",
   "execution_count": 1,
   "id": "1a993b40-ffc4-464d-b01a-636d342579c6",
   "metadata": {},
   "outputs": [],
   "source": [
    "# 加载向量库和检索链\n",
    "from langchain.vectorstores import Chroma\n",
    "from langchain_community.embeddings import QianfanEmbeddingsEndpoint # 调用 百度文心一言 的 Embeddings 模型\n",
    "from dotenv import load_dotenv, find_dotenv\n",
    "import os\n",
    "# _ = load_dotenv(find_dotenv()) # read local .env file\n",
    "_ = load_dotenv('../QA_Project/.env')\n",
    "\n",
    "# 获取环境变量 \n",
    "wenxin_api_key = os.environ[\"wenxin_api_key\"]\n",
    "wenxin_secret_key = os.environ[\"wenxin_secret_key\"]\n",
    "\n",
    "\n",
    "# 定义 Embeddings\n",
    "qianfan_embedding = QianfanEmbeddingsEndpoint(qianfan_ak=wenxin_api_key,\n",
    "                                  qianfan_sk=wenxin_secret_key) \n",
    "\n",
    "# 向量数据库持久化路径\n",
    "persist_directory = '../QA_Project/data_base/vector_db/chroma'\n",
    "\n",
    "# 加载数据库\n",
    "vectordb = Chroma(\n",
    "    persist_directory=persist_directory,  # 允许我们将persist_directory目录保存到磁盘上\n",
    "    embedding_function=qianfan_embedding\n",
    ")\n"
   ]
  },
  {
   "cell_type": "code",
   "execution_count": 11,
   "id": "a338fc96-6e7c-4f5e-a260-96b2e1a3fa34",
   "metadata": {},
   "outputs": [
    {
     "name": "stdout",
     "output_type": "stream",
     "text": [
      "问题一：\n",
      "南瓜书是西瓜书的补充和辅助教材，它以西瓜书的内容为前置知识进行表述，旨在帮助读者更好地理解和掌握西瓜书中的机器学习算法和公式。两本书可以结合使用，以西瓜书为主线，遇到难题时再查阅南瓜书进行辅助理解。谢谢你的提问！\n",
      "问题二：\n",
      "南瓜书的所有内容都是以西瓜书的内容为前置知识进行表述的，所以南瓜书的最佳使用方法是以西瓜书为主线，遇到自己推导不出来或者看不懂的公式时再来查阅南瓜书。对于初学机器学习的小白，建议先从西瓜书入手，简单过一下第1章和第2章的公式，等有一定基础后再深入学习南瓜书中的详细推导和解释。谢谢你的提问！\n"
     ]
    }
   ],
   "source": [
    "from langchain.prompts import PromptTemplate\n",
    "\n",
    "template_v1 = \"\"\"使用以下上下文来回答最后的问题。如果你不知道答案，就说你不知道，不要试图编造答\n",
    "案。最多使用三句话。尽量使答案简明扼要。总是在回答的最后说“谢谢你的提问！”。\n",
    "{context}\n",
    "问题: {question}\n",
    "有用的回答:\"\"\"\n",
    "\n",
    "QA_CHAIN_PROMPT = PromptTemplate(input_variables=[\"context\",\"question\"],\n",
    "                                 template=template_v1)\n",
    "\n",
    "from langchain.chains import RetrievalQA\n",
    "from langchain_community.chat_models.baidu_qianfan_endpoint import QianfanChatEndpoint\n",
    "import logging\n",
    "\n",
    "# 获取特定库的日志器，设置日志级别为ERROR，这样低于ERROR级别的日志（如WARNING, INFO, DEBUG）将不会被打印\n",
    "logger_qfllm = logging.getLogger('QianfanChatEndpoint')\n",
    "logger_qfllm.setLevel(logging.ERROR)\n",
    "logger_qf = logging.getLogger('qianfan')\n",
    "logger_qf.setLevel(logging.ERROR)\n",
    "\n",
    "llm = QianfanChatEndpoint(\n",
    "    qianfan_ak=wenxin_api_key,\n",
    "    qianfan_sk=wenxin_secret_key,model='ERNIE-Bot-4'\n",
    ")\n",
    "\n",
    "qa_chain = RetrievalQA.from_chain_type(llm,\n",
    "                                       retriever=vectordb.as_retriever(),\n",
    "                                       return_source_documents=True,\n",
    "                                       chain_type_kwargs={\"prompt\":QA_CHAIN_PROMPT})\n",
    "\n",
    "\n",
    "question = \"南瓜书和西瓜书有什么关系？\"\n",
    "result = qa_chain({\"query\": question})\n",
    "print(\"问题一：\")\n",
    "print(result[\"result\"])\n",
    "\n",
    "\n",
    "question = \"应该如何使用南瓜书？\"\n",
    "result = qa_chain({\"query\": question})\n",
    "print(\"问题二：\")\n",
    "print(result[\"result\"])"
   ]
  },
  {
   "cell_type": "code",
   "execution_count": 12,
   "id": "fe53fdda-cf93-4ccf-9132-8db455345dc2",
   "metadata": {},
   "outputs": [
    {
     "name": "stdout",
     "output_type": "stream",
     "text": [
      "问题一：\n",
      "南瓜书和西瓜书都是与机器学习相关的教材或参考资料。从给定的上下文中，我们可以推断出以下几点关系：\n",
      "\n",
      "1. 内容关联：南瓜书的内容是以西瓜书的内容为前置知识进行表述的。这意味着，南瓜书可能是对西瓜书中某些内容、公式或理论的进一步解释、展开或补充。因此，当读者在阅读西瓜书时遇到难以理解或推导的部分，可以查阅南瓜书以获取更详细的说明。\n",
      "2. 使用建议：建议读者以西瓜书为主线进行学习，在遇到难题时再参考南瓜书。这表明，西瓜书可能是一个更全面、系统的机器学习教材，而南瓜书则更像是一个辅助工具或参考手册。\n",
      "3. 命名风格：从上下文中可以看出，南瓜书和西瓜书在命名上有一定的相似性，可能寓意着它们之间的某种关联或连续性。实际上，这种命名风格可能是为了吸引读者的注意，使教材更易于记忆和识别。\n",
      "\n",
      "综上所述，南瓜书和西瓜书在内容和使用上具有一定的互补性，共同构成了机器学习领域的一套参考资料。读者可以根据自己的学习需求和兴趣，结合使用这两本书进行学习。\n",
      "问题二：\n",
      "根据给出的上下文，南瓜书《机器学习公式详解》的使用方法主要如下：\n",
      "\n",
      "1. 以西瓜书为主线进行学习。南瓜书的内容是基于西瓜书的内容进行表述的，因此，最好先以西瓜书为主线进行学习。在阅读西瓜书的过程中，如果遇到自己推导不出来或者看不懂的公式，可以查阅南瓜书进行辅助理解。\n",
      "2. 不要过早深究某些公式。对于初学机器学习的小白，西瓜书第1章和第2章的公式不建议一开始就深究，可以先简单过一下，等学到一定程度后再回来深入理解。同样，南瓜书中的一些公式和推导也可以按照这种策略进行学习。\n",
      "3. 注意决策树等直观算法的理解。虽然南瓜书主要关注于公式的详解，但也要注意理解算法本身的直观含义。例如，决策树算法背后没有复杂的数学推导，更符合人类日常思维方式，理解起来也更为直观。在学习这类算法时，可以结合书中的例子进行理解。\n",
      "4. 作为笔记和参考。南瓜书本质上是作者自学时记下来的笔记，因此也可以作为学习者自己的笔记和参考。在学习过程中，可以在南瓜书上做笔记、标记重点、写下自己的理解等，以帮助自己更好地学习和掌握机器学习的知识。\n",
      "\n",
      "总的来说，南瓜书《机器学习公式详解》是一本辅助学习的书籍，主要以西瓜书为主线进行学习，在遇到困难和疑惑时查阅南瓜书进行辅助理解和参考。同时也要注意理解算法本身的直观含义，以及做好自己的笔记和参考。\n"
     ]
    }
   ],
   "source": [
    "template_v2 = \"\"\"使用以下上下文来回答最后的问题。如果你不知道答案，就说你不知道，不要试图编造答\n",
    "案。你应该使答案尽可能详细具体，但不要偏题。如果答案比较长，请酌情进行分段，以提高答案的阅读体验。\n",
    "{context}\n",
    "问题: {question}\n",
    "有用的回答:\"\"\"\n",
    "\n",
    "QA_CHAIN_PROMPT = PromptTemplate(input_variables=[\"context\",\"question\"],\n",
    "                                 template=template_v2)\n",
    "\n",
    "qa_chain = RetrievalQA.from_chain_type(llm,\n",
    "                                       retriever=vectordb.as_retriever(),\n",
    "                                       return_source_documents=True,\n",
    "                                       chain_type_kwargs={\"prompt\":QA_CHAIN_PROMPT})\n",
    "\n",
    "\n",
    "question = \"南瓜书和西瓜书有什么关系？\"\n",
    "result = qa_chain({\"query\": question})\n",
    "print(\"问题一：\")\n",
    "print(result[\"result\"])\n",
    "\n",
    "question = \"应该如何使用南瓜书？\"\n",
    "result = qa_chain({\"query\": question})\n",
    "print(\"问题二：\")\n",
    "print(result[\"result\"])"
   ]
  },
  {
   "cell_type": "code",
   "execution_count": 13,
   "id": "1023799f-8903-4062-ad68-731be5ea45f3",
   "metadata": {},
   "outputs": [
    {
     "name": "stdout",
     "output_type": "stream",
     "text": [
      "问题：\n",
      "应该如何使用南瓜书？\n",
      "模型回答：\n",
      "根据提供的上下文，南瓜书《机器学习公式详解》的使用方法如下：\n",
      "\n",
      "1. 南瓜书的内容是以西瓜书的内容为前置知识进行表述的，因此最佳使用方法是以西瓜书为主线进行学习。当遇到自己推导不出来或者看不懂的公式时，再来查阅南瓜书进行辅助理解。\n",
      "2. 对于初学机器学习的小白，西瓜书第1章和第2章的公式不建议深究，可以简单过一遍，等学到一定程度后再回来仔细研究。这一过程中，如果遇到难以理解的公式或推导，也可以参考南瓜书的相关内容。\n",
      "3. 南瓜书的目标是帮助读者成为一名合格的“理工科数学基础扎实点的大二下学生”，因此在使用南瓜书时，应着重关注书中的推导细节和具体解释，以加深对机器学习算法和数学原理的理解。\n",
      "\n",
      "总的来说，南瓜书《机器学习公式详解》是一本辅助性的学习资料，适合与西瓜书配合使用，以帮助读者更好地理解和掌握机器学习的相关知识和算法。\n"
     ]
    }
   ],
   "source": [
    "print(\"问题：\")\n",
    "question = \"应该如何使用南瓜书？\"\n",
    "print(question)\n",
    "print(\"模型回答：\")\n",
    "result = qa_chain({\"query\": question})\n",
    "print(result[\"result\"])"
   ]
  },
  {
   "cell_type": "code",
   "execution_count": 18,
   "id": "d1bdb0ce-c2dd-4bbf-98c1-e572a753bb26",
   "metadata": {},
   "outputs": [
    {
     "name": "stdout",
     "output_type": "stream",
     "text": [
      "[Document(page_content='等数学渣渣在自学的时候记下来的笔记，希望能够帮助大家都成为一名合格的“理工科数学基础扎实点的大二\\n下学生”。\\n使用说明\\n• 南瓜书的所有内容都是以西瓜书的内容为前置知识进行表述的，所以南瓜书的最佳使用方法是以西瓜书\\n为主线，遇到自己推导不出来或者看不懂的公式时再来查阅南瓜书；\\n• 对于初学机器学习的小白，西瓜书第 1 章和第 2 章的公式强烈不建议深究，简单过一下即可，等你学得\\n有点飘的时候再回来啃都来得及；', metadata={'author': '', 'creationDate': \"D:20230303170709-00'00'\", 'creator': 'LaTeX with hyperref', 'file_path': '../QA_Project/data_base/knowledge_db/pumpkin_book/pumpkin_book.pdf', 'format': 'PDF 1.5', 'keywords': '', 'modDate': '', 'page': 1, 'producer': 'xdvipdfmx (20200315)', 'source': '../QA_Project/data_base/knowledge_db/pumpkin_book/pumpkin_book.pdf', 'subject': '', 'title': '', 'total_pages': 196, 'trapped': ''}), Document(page_content='具体的推导细节。”\\n读到这里，大家可能会疑问为啥前面这段话加了引号，因为这只是我们最初的遐想，后来我们了解到，周\\n老师之所以省去这些推导细节的真实原因是，他本尊认为“理工科数学基础扎实点的大二下学生应该对西瓜书\\n中的推导细节无困难吧，要点在书里都有了，略去的细节应能脑补或做练习”。所以...... 本南瓜书只能算是我\\n等数学渣渣在自学的时候记下来的笔记，希望能够帮助大家都成为一名合格的“理工科数学基础扎实点的大二\\n下学生”。\\n使用说明', metadata={'author': '', 'creationDate': \"D:20230303170709-00'00'\", 'creator': 'LaTeX with hyperref', 'file_path': '../QA_Project/data_base/knowledge_db/pumpkin_book/pumpkin_book.pdf', 'format': 'PDF 1.5', 'keywords': '', 'modDate': '', 'page': 1, 'producer': 'xdvipdfmx (20200315)', 'source': '../QA_Project/data_base/knowledge_db/pumpkin_book/pumpkin_book.pdf', 'subject': '', 'title': '', 'total_pages': 196, 'trapped': ''}), Document(page_content='→_→\\n欢迎去各大电商平台选购纸质版南瓜书《机器学习公式详解》\\n←_←\\n第 4 章\\n决策树\\n本章的决策树算法背后没有复杂的数学推导，其更符合人类日常思维方式，理解起来也更为直观，其\\n引入的数学工具也仅是为了让该算法在计算上可行，同时“西瓜书”在本章列举了大量例子，因此本章的\\n算法会更为通俗易懂。\\n4.1\\n基本流程\\n作为本章的开篇，首先要明白决策树在做什么。正如“西瓜书”中图 4.1 所示的决策过程，决策树就', metadata={'author': '', 'creationDate': \"D:20230303170709-00'00'\", 'creator': 'LaTeX with hyperref', 'file_path': '../QA_Project/data_base/knowledge_db/pumpkin_book/pumpkin_book.pdf', 'format': 'PDF 1.5', 'keywords': '', 'modDate': '', 'page': 44, 'producer': 'xdvipdfmx (20200315)', 'source': '../QA_Project/data_base/knowledge_db/pumpkin_book/pumpkin_book.pdf', 'subject': '', 'title': '', 'total_pages': 196, 'trapped': ''}), Document(page_content='还加上了诚实实力\\n\\n同学们以后可以直接阅读这份教程\\n\\n这样我以后上课就不用再讲强化学习的部分了\\n\\n可以发现女婚姻对我们这本书还是挺认可的\\n\\n然后接下来讲一个问题\\n\\n这本书为什么叫《蘑菇书》呢\\n\\n难道是因为作者都是吃货\\n\\n之前有一本西瓜书\\n\\n还有一本南瓜书\\n\\n然后作为一个吃货的话\\n\\n还有一个传承一下叫《蘑菇书》\\n\\n就吃完西瓜南瓜再来热蘑菇\\n\\n但其实并不是\\n\\n《蘑菇书》真的寓意是马里奥\\n\\n大家如果玩过《超级马里奥2》游戏\\n\\n就知道马里奥吃了蘑菇以后会变得更加强大\\n\\n然后呢\\n\\n我们也希望呢', metadata={'source': '../QA_Project/data_base/knowledge_db/easy__rl/强化学习入门指南.txt'})]\n"
     ]
    }
   ],
   "source": [
    "print(result[\"source_documents\"])\n"
   ]
  },
  {
   "cell_type": "code",
   "execution_count": 19,
   "id": "189971bc-7ed5-42ca-be73-60c0f005dccd",
   "metadata": {},
   "outputs": [],
   "source": [
    "prompt_template = '''\n",
    "请你做如下选择题：\n",
    "题目：南瓜书的作者是谁？\n",
    "选项：A 周志明 B 谢文睿 C 秦州 D 贾彬彬\n",
    "你可以参考的知识片段：\n",
    "```\n",
    "{}\n",
    "```\n",
    "请仅返回选择的选项\n",
    "如果你无法做出选择，请返回空\n",
    "'''\n"
   ]
  },
  {
   "cell_type": "code",
   "execution_count": 20,
   "id": "f10e4612-e729-4ca5-83e5-ea5491158301",
   "metadata": {},
   "outputs": [],
   "source": [
    "def multi_select_score_v1(true_answer : str, generate_answer : str) -> float:\n",
    "    # true_anser : 正确答案，str 类型，例如 'BCD'\n",
    "    # generate_answer : 模型生成答案，str 类型\n",
    "    true_answers = list(true_answer)\n",
    "    '''为便于计算，我们假设每道题都只有 A B C D 四个选项'''\n",
    "    # 先找出错误答案集合\n",
    "    false_answers = [item for item in ['A', 'B', 'C', 'D'] if item not in true_answers]\n",
    "    # 如果生成答案出现了错误答案\n",
    "    for one_answer in false_answers:\n",
    "        if one_answer in generate_answer:\n",
    "            return 0\n",
    "    # 再判断是否全选了正确答案\n",
    "    if_correct = 0\n",
    "    for one_answer in true_answers:\n",
    "        if one_answer in generate_answer:\n",
    "            if_correct += 1\n",
    "            continue\n",
    "    if if_correct == 0:\n",
    "        # 不选\n",
    "        return 0\n",
    "    elif if_correct == len(true_answers):\n",
    "        # 全选\n",
    "        return 1\n",
    "    else:\n",
    "        # 漏选\n",
    "        return 0.5\n"
   ]
  },
  {
   "cell_type": "code",
   "execution_count": 21,
   "id": "b899c50c-96a9-4212-bd4b-aeabeebd2776",
   "metadata": {},
   "outputs": [
    {
     "name": "stdout",
     "output_type": "stream",
     "text": [
      "答案一得分： 0.5\n",
      "答案二得分： 0\n",
      "答案三得分： 1\n",
      "答案四得分： 0\n"
     ]
    }
   ],
   "source": [
    "answer1 = 'B C'\n",
    "answer2 = '西瓜书的作者是 A 周志华'\n",
    "answer3 = '应该选择 B C D'\n",
    "answer4 = '我不知道'\n",
    "true_answer = 'BCD'\n",
    "print(\"答案一得分：\", multi_select_score_v1(true_answer, answer1))\n",
    "print(\"答案二得分：\", multi_select_score_v1(true_answer, answer2))\n",
    "print(\"答案三得分：\", multi_select_score_v1(true_answer, answer3))\n",
    "print(\"答案四得分：\", multi_select_score_v1(true_answer, answer4))"
   ]
  },
  {
   "cell_type": "code",
   "execution_count": 22,
   "id": "919380f9-5e67-4f5f-85cd-ccf3501bc213",
   "metadata": {},
   "outputs": [],
   "source": [
    "def multi_select_score_v2(true_answer : str, generate_answer : str) -> float:\n",
    "    # true_anser : 正确答案，str 类型，例如 'BCD'\n",
    "    # generate_answer : 模型生成答案，str 类型\n",
    "    true_answers = list(true_answer)\n",
    "    '''为便于计算，我们假设每道题都只有 A B C D 四个选项'''\n",
    "    # 先找出错误答案集合\n",
    "    false_answers = [item for item in ['A', 'B', 'C', 'D'] if item not in true_answers]\n",
    "    # 如果生成答案出现了错误答案\n",
    "    for one_answer in false_answers:\n",
    "        if one_answer in generate_answer:\n",
    "            return -1\n",
    "    # 再判断是否全选了正确答案\n",
    "    if_correct = 0\n",
    "    for one_answer in true_answers:\n",
    "        if one_answer in generate_answer:\n",
    "            if_correct += 1\n",
    "            continue\n",
    "    if if_correct == 0:\n",
    "        # 不选\n",
    "        return 0\n",
    "    elif if_correct == len(true_answers):\n",
    "        # 全选\n",
    "        return 1\n",
    "    else:\n",
    "        # 漏选\n",
    "        return 0.5"
   ]
  },
  {
   "cell_type": "code",
   "execution_count": 23,
   "id": "0f5da678-cdcc-4cc3-91b2-cbdea9c1adc1",
   "metadata": {},
   "outputs": [
    {
     "name": "stdout",
     "output_type": "stream",
     "text": [
      "答案一得分： 0.5\n",
      "答案二得分： -1\n",
      "答案三得分： 1\n",
      "答案四得分： 0\n"
     ]
    }
   ],
   "source": [
    "answer1 = 'B C'\n",
    "answer2 = '西瓜书的作者是 A 周志华'\n",
    "answer3 = '应该选择 B C D'\n",
    "answer4 = '我不知道'\n",
    "true_answer = 'BCD'\n",
    "print(\"答案一得分：\", multi_select_score_v2(true_answer, answer1))\n",
    "print(\"答案二得分：\", multi_select_score_v2(true_answer, answer2))\n",
    "print(\"答案三得分：\", multi_select_score_v2(true_answer, answer3))\n",
    "print(\"答案四得分：\", multi_select_score_v2(true_answer, answer4))"
   ]
  },
  {
   "cell_type": "code",
   "execution_count": 25,
   "id": "83ed2847-167d-47ca-bd6f-409f841ca439",
   "metadata": {},
   "outputs": [],
   "source": [
    "from nltk.translate.bleu_score import sentence_bleu\n",
    "import jieba\n",
    "\n",
    "def bleu_score(true_answer : str, generate_answer : str) -> float:\n",
    "    # true_anser : 标准答案，str 类型\n",
    "    # generate_answer : 模型生成答案，str 类型\n",
    "    true_answers = list(jieba.cut(true_answer))\n",
    "    # print(true_answers)\n",
    "    generate_answers = list(jieba.cut(generate_answer))\n",
    "    # print(generate_answers)\n",
    "    bleu_score = sentence_bleu(true_answers, generate_answers)\n",
    "    return bleu_score"
   ]
  },
  {
   "cell_type": "code",
   "execution_count": 28,
   "id": "3a7dec0c-9df5-49b3-b3d0-720b6c9bcf5f",
   "metadata": {},
   "outputs": [
    {
     "name": "stdout",
     "output_type": "stream",
     "text": [
      "答案一：\n",
      "周志华老师的《机器学习》（西瓜书）是机器学习领域的经典入门教材之一，周老师为了使尽可能多的读者通过西瓜书对机器学习有所了解, 所以在书中对部分公式的推导细节没有详述，但是这对那些想深究公式推导细节的读者来说可能“不太友好”，本书旨在对西瓜书里比较难理解的公式加以解析，以及对部分公式补充具体的推导细节。\n",
      "得分： 1.2705543769116016e-231\n",
      "答案二：\n",
      "本南瓜书只能算是我等数学渣渣在自学的时候记下来的笔记，希望能够帮助大家都成为一名合格的“理工科数学基础扎实点的大二下学生”\n",
      "得分： 1.1935398790363042e-231\n"
     ]
    }
   ],
   "source": [
    "true_answer = '周志华老师的《机器学习》（西瓜书）是机器学习领域的经典入门教材之一，周老师为了使尽可能多的读者通过西瓜书对机器学习有所了解, 所以在书中对部分公式的推导细节没有详述，但是这对那些想深究公式推导细节的读者来说可能“不太友好”，本书旨在对西瓜书里比较难理解的公式加以解析，以及对部分公式补充具体的推导细节。'\n",
    "\n",
    "print(\"答案一：\")\n",
    "answer1 = '周志华老师的《机器学习》（西瓜书）是机器学习领域的经典入门教材之一，周老师为了使尽可能多的读者通过西瓜书对机器学习有所了解, 所以在书中对部分公式的推导细节没有详述，但是这对那些想深究公式推导细节的读者来说可能“不太友好”，本书旨在对西瓜书里比较难理解的公式加以解析，以及对部分公式补充具体的推导细节。'\n",
    "print(answer1)\n",
    "score = bleu_score(true_answer, answer1)\n",
    "print(\"得分：\", score)\n",
    "print(\"答案二：\")\n",
    "answer2 = '本南瓜书只能算是我等数学渣渣在自学的时候记下来的笔记，希望能够帮助大家都成为一名合格的“理工科数学基础扎实点的大二下学生”'\n",
    "print(answer2)\n",
    "score = bleu_score(true_answer, answer2)\n",
    "print(\"得分：\", score)"
   ]
  },
  {
   "cell_type": "code",
   "execution_count": 29,
   "id": "07de44e0-9f6d-4572-952d-10e76f0a5d63",
   "metadata": {},
   "outputs": [],
   "source": [
    "prompt = '''\n",
    "你是一个模型回答评估员。\n",
    "接下来，我将给你一个问题、对应的知识片段以及模型根据知识片段对问题的回答。\n",
    "请你依次评估以下维度模型回答的表现，分别给出打分：\n",
    "\n",
    "① 知识查找正确性。评估系统给定的知识片段是否能够对问题做出回答。如果知识片段不能做出回答，打分为0；如果知识片段可以做出回答，打分为1。\n",
    "\n",
    "② 回答一致性。评估系统的回答是否针对用户问题展开，是否有偏题、错误理解题意的情况，打分分值在0~1之间，0为完全偏题，1为完全切题。\n",
    "\n",
    "③ 回答幻觉比例。该维度需要综合系统回答与查找到的知识片段，评估系统的回答是否出现幻觉，打分分值在0~1之间,0为全部是模型幻觉，1为没有任何幻觉。\n",
    "\n",
    "④ 回答正确性。该维度评估系统回答是否正确，是否充分解答了用户问题，打分分值在0~1之间，0为完全不正确，1为完全正确。\n",
    "\n",
    "⑤ 逻辑性。该维度评估系统回答是否逻辑连贯，是否出现前后冲突、逻辑混乱的情况。打分分值在0~1之间，0为逻辑完全混乱，1为完全没有逻辑问题。\n",
    "\n",
    "⑥ 通顺性。该维度评估系统回答是否通顺、合乎语法。打分分值在0~1之间，0为语句完全不通顺，1为语句完全通顺没有任何语法问题。\n",
    "\n",
    "⑦ 智能性。该维度评估系统回答是否拟人化、智能化，是否能充分让用户混淆人工回答与智能回答。打分分值在0~1之间，0为非常明显的模型回答，1为与人工回答高度一致。\n",
    "\n",
    "你应该是比较严苛的评估员，很少给出满分的高评估。\n",
    "用户问题：\n",
    "```\n",
    "{}\n",
    "```\n",
    "待评估的回答：\n",
    "```\n",
    "{}\n",
    "```\n",
    "给定的知识片段：\n",
    "```\n",
    "{}\n",
    "```\n",
    "你应该返回给我一个可直接解析的 Python 字典，字典的键是如上维度，值是每一个维度对应的评估打分。\n",
    "不要输出任何其他内容。\n",
    "'''\n"
   ]
  },
  {
   "cell_type": "code",
   "execution_count": 30,
   "id": "e6cfcf09-63dd-4800-a1ec-4e2ab57046e5",
   "metadata": {},
   "outputs": [],
   "source": [
    "import requests\n",
    "import json\n",
    "\n",
    "def get_access_token():\n",
    "    \"\"\"\n",
    "    使用 API Key，Secret Key 获取access_token，替换下列示例中的应用API Key、应用Secret Key\n",
    "    \"\"\"\n",
    "    # 指定网址\n",
    "    url = \"https://aip.baidubce.com/oauth/2.0/token?grant_type=client_credentials&client_id=NSwW3Zr7f1rW8rRByKyqPKOV&client_secret=rbt3kGXuophuE8XOm45A5M53qft8p6c9\"\n",
    "    # 设置 POST 访问\n",
    "    payload = json.dumps(\"\")\n",
    "    headers = {\n",
    "        'Content-Type': 'application/json',\n",
    "        'Accept': 'application/json'\n",
    "    }\n",
    "    # 通过 POST 访问获取账户对应的 access_token\n",
    "    response = requests.request(\"POST\", url, headers=headers, data=payload)\n",
    "    return response.json().get(\"access_token\")\n",
    "# 一个封装 Wenxin 接口的函数，参数为 Prompt，返回对应结果\n",
    "def get_completion_weixin(prompt, temperature = 0.95, access_token = \"\"):\n",
    "    '''\n",
    "    prompt: 对应的提示词\n",
    "    temperature：温度系数\n",
    "    access_token：已获取到的秘钥\n",
    "    '''\n",
    "    url = f\"https://aip.baidubce.com/rpc/2.0/ai_custom/v1/wenxinworkshop/chat/completions_pro?access_token={access_token}\"\n",
    "    # 配置 POST 参数\n",
    "    payload = json.dumps({\n",
    "        \"messages\": [\n",
    "            {\n",
    "                \"role\": \"user\",# user prompt\n",
    "                \"content\": \"{}\".format(prompt)# 输入的 prompt\n",
    "            }\n",
    "        ],\n",
    "        \"temperature\" : temperature\n",
    "    })\n",
    "    headers = {\n",
    "        'Content-Type': 'application/json'\n",
    "    }\n",
    "    # 发起请求\n",
    "    response = requests.request(\"POST\", url, headers=headers, data=payload)\n",
    "    # 返回的是一个 Json 字符串\n",
    "    js = json.loads(response.text)\n",
    "    # print(js)\n",
    "    return js[\"result\"]\n"
   ]
  },
  {
   "cell_type": "code",
   "execution_count": 32,
   "id": "2ba48642-243c-4242-bac4-6c33e39606b3",
   "metadata": {},
   "outputs": [
    {
     "name": "stdout",
     "output_type": "stream",
     "text": [
      "```python\n",
      "{\n",
      "    \"知识查找正确性\": 1,\n",
      "    \"回答一致性\": 1,\n",
      "    \"回答幻觉比例\": 1,\n",
      "    \"回答正确性\": 1,\n",
      "    \"逻辑性\": 1,\n",
      "    \"通顺性\": 1,\n",
      "    \"智能性\": 0.9\n",
      "}\n",
      "```\n"
     ]
    }
   ],
   "source": [
    "question = \"应该如何使用南瓜书？\"\n",
    "result = qa_chain({\"query\": question})\n",
    "answer = result[\"result\"]\n",
    "knowledge = result[\"source_documents\"]\n",
    "\n",
    "response = get_completion_weixin(prompt.format(question, answer, knowledge),access_token=get_access_token())\n",
    "print(response)\n"
   ]
  },
  {
   "cell_type": "code",
   "execution_count": null,
   "id": "9506c432-1bfd-42bc-8b39-4c441ca0a02a",
   "metadata": {},
   "outputs": [],
   "source": []
  }
 ],
 "metadata": {
  "kernelspec": {
   "display_name": "Python 3 (ipykernel)",
   "language": "python",
   "name": "python3"
  },
  "language_info": {
   "codemirror_mode": {
    "name": "ipython",
    "version": 3
   },
   "file_extension": ".py",
   "mimetype": "text/x-python",
   "name": "python",
   "nbconvert_exporter": "python",
   "pygments_lexer": "ipython3",
   "version": "3.10.13"
  }
 },
 "nbformat": 4,
 "nbformat_minor": 5
}
